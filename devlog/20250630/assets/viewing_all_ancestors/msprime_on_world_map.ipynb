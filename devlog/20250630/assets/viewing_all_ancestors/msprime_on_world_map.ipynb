{
 "cells": [
  {
   "cell_type": "code",
   "execution_count": 1,
   "id": "65b5a72f-d596-4a33-9413-07b28a07d891",
   "metadata": {},
   "outputs": [
    {
     "name": "stderr",
     "output_type": "stream",
     "text": [
      "The provenance information for the resulting tree sequence is 4.17MB. This is nothing to worry about as provenance is a good thing to have, but if you want to save this memory/storage space you can disable provenance recording by setting record_provenance=False\n"
     ]
    }
   ],
   "source": [
    "import sys\n",
    "sys.path.append(\"/Users/jameskitchens/Documents/GitHub/terracotta\")\n",
    "import terracotta as tct\n",
    "import importlib\n",
    "importlib.reload(tct)\n",
    "\n",
    "tct.create_trees_files(\n",
    "    demes_path=\"/Users/jameskitchens/Documents/GitHub/terracotta/devlog/20250630/assets/viewing_all_ancestors/dataset/demes.tsv\",\n",
    "    samples_path=\"/Users/jameskitchens/Documents/GitHub/terracotta/devlog/20250630/assets/viewing_all_ancestors/dataset/samples.tsv\",\n",
    "    number_of_trees=1,\n",
    "    pop_size=50,\n",
    "    migration_rate=0.01,\n",
    "    output_directory=\"/Users/jameskitchens/Documents/GitHub/terracotta/devlog/20250630/assets/viewing_all_ancestors/dataset\"\n",
    ")"
   ]
  },
  {
   "cell_type": "code",
   "execution_count": 11,
   "id": "24f3595a-1904-445a-9ca5-ea54faf2b17f",
   "metadata": {},
   "outputs": [
    {
     "name": "stderr",
     "output_type": "stream",
     "text": [
      "The provenance information for the resulting tree sequence is 3.95MB. This is nothing to worry about as provenance is a good thing to have, but if you want to save this memory/storage space you can disable provenance recording by setting record_provenance=False\n"
     ]
    }
   ],
   "source": [
    "tct.create_arg_file(\n",
    "    demes_path=\"/Users/jameskitchens/Documents/GitHub/terracotta/devlog/20250630/assets/viewing_all_ancestors/dataset/demes.tsv\",\n",
    "    samples_path=\"/Users/jameskitchens/Documents/GitHub/terracotta/devlog/20250630/assets/viewing_all_ancestors/dataset/samples.tsv\",\n",
    "    pop_size=50,\n",
    "    sequence_length=1000000,\n",
    "    recombination_rate=1e-8,\n",
    "    migration_rate=0.01,\n",
    "    output_path=\"/Users/jameskitchens/Documents/GitHub/terracotta/devlog/20250630/assets/viewing_all_ancestors/dataset/arg.trees\"\n",
    ")"
   ]
  },
  {
   "cell_type": "code",
   "execution_count": null,
   "id": "2362c4a8-9415-4b69-b95a-2836cd3f1d1b",
   "metadata": {},
   "outputs": [],
   "source": []
  }
 ],
 "metadata": {
  "kernelspec": {
   "display_name": "Python 3 (ipykernel)",
   "language": "python",
   "name": "python3"
  },
  "language_info": {
   "codemirror_mode": {
    "name": "ipython",
    "version": 3
   },
   "file_extension": ".py",
   "mimetype": "text/x-python",
   "name": "python",
   "nbconvert_exporter": "python",
   "pygments_lexer": "ipython3",
   "version": "3.12.0"
  }
 },
 "nbformat": 4,
 "nbformat_minor": 5
}
