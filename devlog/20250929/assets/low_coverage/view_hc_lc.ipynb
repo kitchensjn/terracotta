{
 "cells": [
  {
   "cell_type": "code",
   "execution_count": 17,
   "id": "bf3bc352-9b51-4a63-803d-a40378c7870b",
   "metadata": {},
   "outputs": [],
   "source": [
    "import sys\n",
    "sys.path.append(\"/Users/jameskitchens/Documents/GitHub/terracotta\")\n",
    "import terracotta as tct\n",
    "import importlib\n",
    "importlib.reload(tct)\n",
    "\n",
    "import pandas as pd\n",
    "import matplotlib.pyplot as plt\n",
    "import math\n",
    "import numpy as np"
   ]
  },
  {
   "cell_type": "code",
   "execution_count": 18,
   "id": "a062623a-36c8-4f52-81bd-3f4d1c2b21bc",
   "metadata": {},
   "outputs": [
    {
     "data": {
      "image/png": "[encoded data removed]",
      "text/plain": [
       "<Figure size 500x500 with 1 Axes>"
      ]
     },
     "metadata": {},
     "output_type": "display_data"
    }
   ],
   "source": [
    "demes = pd.read_csv(\"dataset/demes.tsv\", sep=\"\\t\")\n",
    "world_map = tct.WorldMap(demes)\n",
    "world_map.draw(figsize=(5,5), asymmetric=False)"
   ]
  },
  {
   "cell_type": "code",
   "execution_count": 27,
   "id": "4d2c24ff-e420-4877-93c1-1c8596d7a078",
   "metadata": {},
   "outputs": [
    {
     "data": {
      "image/png": "[encoded data removed]",
      "text/plain": [
       "<Figure size 500x500 with 1 Axes>"
      ]
     },
     "metadata": {},
     "output_type": "display_data"
    }
   ],
   "source": [
    "def _calc_optimal_organization_of_suplots(num_plots):\n",
    "    ncols = math.ceil(math.sqrt(num_plots))\n",
    "    nrows = math.ceil(num_plots/ncols)\n",
    "    return nrows, ncols\n",
    "\n",
    "figsize = (5,5)\n",
    "times=None\n",
    "color_connections=False\n",
    "color_demes=False\n",
    "asymmetric=False\n",
    "        \n",
    "if times is None:\n",
    "    times = world_map.epochs\n",
    "\n",
    "nrows, ncols = _calc_optimal_organization_of_suplots(num_plots=len(times))\n",
    "\n",
    "if color_connections:\n",
    "    num_connection_types = len(world_map.existing_connection_types)\n",
    "    color_rnd = random.Random()\n",
    "    color_rnd.seed(1)\n",
    "    connection_colors = [\"#\"+''.join([color_rnd.choice(\"0123456789ABCDEF\") for j in range(6)]) for i in range(num_connection_types)]\n",
    "\n",
    "fig, axs = plt.subplots(nrows=nrows, ncols=ncols, figsize=figsize)\n",
    "\n",
    "if len(times) == 1:\n",
    "    axs = np.array([[axs]])\n",
    "elif nrows == 1:\n",
    "    axs = np.array([axs])\n",
    "\n",
    "for e in range(nrows*ncols):\n",
    "    if e < len(times):\n",
    "        for _,row in world_map.connections[e].iterrows():\n",
    "            deme_0 = world_map.get_coordinates_of_deme(row[\"deme_0\"])\n",
    "            deme_1 = world_map.get_coordinates_of_deme(row[\"deme_1\"])\n",
    "\n",
    "            if asymmetric:\n",
    "                dx = deme_1[0]-deme_0[0]\n",
    "                dy = deme_1[1]-deme_0[1]\n",
    "                length_of_line = math.sqrt(dx**2 + dy**2)\n",
    "                angle_rad = math.atan2(dy, dx)\n",
    "                shift_along_x = math.cos(angle_rad) * (length_of_line*0.2)\n",
    "                shift_along_y = math.sin(angle_rad) * (length_of_line*0.2)\n",
    "                angle_deg = math.degrees(angle_rad)\n",
    "                perp_angle_rad = math.atan2(-dx, dy)\n",
    "                shift_perp_x = math.cos(perp_angle_rad) * 0.1\n",
    "                shift_perp_y = math.sin(perp_angle_rad) * 0.1\n",
    "                if (angle_deg >= 0) and (angle_deg < 180):\n",
    "                    x = deme_0[0] + shift_along_x + shift_perp_x\n",
    "                    y = deme_0[1] + shift_along_y + shift_perp_y\n",
    "                else:\n",
    "                    x = deme_0[0] + shift_along_x + shift_perp_x\n",
    "                    y = deme_0[1] + shift_along_y + shift_perp_y\n",
    "\n",
    "                if color_connections:\n",
    "                    color = connection_colors[np.where(world_map.existing_connection_types==row[\"type\"])[0][0]]\n",
    "                else:\n",
    "                    color=\"grey\"\n",
    "                axs[e//ncols, e%ncols].arrow(x, y, dx*0.6, dy*0.6, length_includes_head=True, color=color, head_width=0.1)\n",
    "            else:\n",
    "                axs[e//ncols, e%ncols].plot([deme_0[0], deme_1[0]], [deme_0[1], deme_1[1]], color=\"grey\")\n",
    "        deme_types_at_time = world_map.get_all_deme_types_at_time(times[e])\n",
    "    axs[e//ncols, e%ncols].set_aspect(\"equal\", 'box')\n",
    "    axs[e//ncols, e%ncols].axis(\"off\")\n",
    "\n",
    "hc_samples = pd.read_csv(\"dataset/hc_samples.tsv\", sep=\"\\t\")\n",
    "deme_hc_sample_counts = hc_samples.value_counts(\"deme\").reset_index()\n",
    "\n",
    "for i,row in world_map.demes.iterrows():\n",
    "    count = sum(deme_hc_sample_counts.loc[deme_hc_sample_counts[\"deme\"]==row[\"id\"], \"count\"])\n",
    "    if count > 0:\n",
    "        plt.scatter(row[\"xcoord\"], row[\"ycoord\"], s=count*20, color=\"#E95E0D\", zorder=2)\n",
    "\n",
    "lc_samples = pd.read_csv(\"dataset/lc_samples.tsv\", sep=\"\\t\")\n",
    "deme_lc_sample_counts = lc_samples.value_counts(\"deme\").reset_index()\n",
    "\n",
    "for i,row in world_map.demes.iterrows():\n",
    "    count = sum(deme_lc_sample_counts.loc[deme_lc_sample_counts[\"deme\"]==row[\"id\"], \"count\"])\n",
    "    if count > 0:\n",
    "        plt.scatter(row[\"xcoord\"], row[\"ycoord\"], s=count*20, marker=\"x\", color=\"black\", zorder=3)\n",
    "\n",
    "plt.axis(\"off\")\n",
    "plt.show()"
   ]
  },
  {
   "cell_type": "code",
   "execution_count": null,
   "id": "b3654fcc-66db-4733-81ff-ef991a1c485c",
   "metadata": {},
   "outputs": [],
   "source": []
  }
 ],
 "metadata": {
  "kernelspec": {
   "display_name": "Python 3 (ipykernel)",
   "language": "python",
   "name": "python3"
  },
  "language_info": {
   "codemirror_mode": {
    "name": "ipython",
    "version": 3
   },
   "file_extension": ".py",
   "mimetype": "text/x-python",
   "name": "python",
   "nbconvert_exporter": "python",
   "pygments_lexer": "ipython3",
   "version": "3.12.0"
  }
 },
 "nbformat": 4,
 "nbformat_minor": 5
}
