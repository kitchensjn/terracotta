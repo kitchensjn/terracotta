{
 "cells": [
  {
   "cell_type": "code",
   "execution_count": 1,
   "id": "c26f6386-b63b-4100-a8b7-1de39607645e",
   "metadata": {},
   "outputs": [],
   "source": [
    "import pandas as pd\n",
    "import numpy as np\n",
    "from glob import glob\n",
    "import tskit\n",
    "import sys\n",
    "sys.path.append(\"/Users/jameskitchens/Documents/GitHub/terracotta\")\n",
    "import terracotta as tct\n",
    "import importlib\n",
    "importlib.reload(tct)\n",
    "import time\n",
    "from scipy.optimize import minimize\n",
    "from numba import njit, guvectorize, int32\n",
    "from scipy import linalg\n",
    "from scipy.special import logsumexp"
   ]
  },
  {
   "cell_type": "code",
   "execution_count": 24,
   "id": "40014531-9fe2-4859-a81e-3f92b2d7b3d4",
   "metadata": {},
   "outputs": [
    {
     "name": "stdout",
     "output_type": "stream",
     "text": [
      "39\n"
     ]
    }
   ],
   "source": [
    "directory = \".\"\n",
    "\n",
    "demes = pd.read_csv(f\"{directory}/demes_elev_two_type.tsv\", sep=\"\\t\")\n",
    "\n",
    "demes[\"type\"] = 0 #ignoring elevation type\n",
    "\n",
    "samples = pd.read_csv(f\"{directory}/samples_elev_two_type.tsv\", sep=\"\\t\")\n",
    "\n",
    "world_map = tct.WorldMap(demes, samples)\n",
    "\n",
    "#trees = [tct.nx_bin_ts(tskit.load(ts).simplify(), [0, 10, 100, 1000, 10000, 100000, 1000000, 10000000]).first() for ts in glob(f\"{directory}/trees/*\")]\n",
    "trees = [tskit.load(ts).simplify().first() for ts in glob(f\"{directory}/trees/*\")]\n",
    "print(len(trees))\n",
    "\n",
    "migration_rates = {0:0.025}\n",
    "transition_matrix = world_map.build_transition_matrix(migration_rates=migration_rates)\n",
    "exponentiated = linalg.expm(transition_matrix)\n",
    "exponentiated[exponentiated < 0] = 0"
   ]
  },
  {
   "cell_type": "code",
   "execution_count": 25,
   "id": "744656fd-8432-4a07-9361-779ecf8b348c",
   "metadata": {},
   "outputs": [
    {
     "name": "stdout",
     "output_type": "stream",
     "text": [
      "CPU times: user 120 ms, sys: 5.6 ms, total: 125 ms\n",
      "Wall time: 124 ms\n"
     ]
    }
   ],
   "source": [
    "%%time\n",
    "total_number_of_edges = 0\n",
    "for tree in trees:\n",
    "    total_number_of_edges += tree.num_edges+1\n",
    "branch_lengths = np.zeros(total_number_of_edges, dtype=\"int64\")\n",
    "edge_counter = 0\n",
    "for tree in trees:\n",
    "    for node in tree.nodes(order=\"timeasc\"):\n",
    "        branch_lengths[edge_counter] = int(tree.branch_length(node))\n",
    "        edge_counter += 1\n",
    "branch_lengths = np.unique(np.array(branch_lengths))"
   ]
  },
  {
   "cell_type": "code",
   "execution_count": 28,
   "id": "e32ef69c-46dc-40af-a7d3-cb6d7e2f91ff",
   "metadata": {},
   "outputs": [
    {
     "name": "stdout",
     "output_type": "stream",
     "text": [
      "CPU times: user 14min 35s, sys: 47.6 s, total: 15min 22s\n",
      "Wall time: 1min 21s\n"
     ]
    }
   ],
   "source": [
    "%%time\n",
    "previous_length = None\n",
    "previous_mat = None\n",
    "precomputed_transitions_new = {}\n",
    "for bl in branch_lengths:\n",
    "    if previous_length != None:\n",
    "        diff = bl - previous_length\n",
    "        where_next = np.dot(previous_mat, np.linalg.matrix_power(exponentiated, diff))\n",
    "    else:\n",
    "        where_next = np.linalg.matrix_power(exponentiated, bl)\n",
    "    precomputed_transitions_new[bl] = where_next\n",
    "    precomputed_transitions_new[bl][precomputed_transitions_new[bl] <= 0] = 1e-99\n",
    "    previous_length = bl\n",
    "    previous_mat = where_next"
   ]
  },
  {
   "cell_type": "code",
   "execution_count": 31,
   "id": "112a7946-cb79-425c-8588-6055e337eee8",
   "metadata": {},
   "outputs": [
    {
     "name": "stdout",
     "output_type": "stream",
     "text": [
      "CPU times: user 53min 52s, sys: 1min 28s, total: 55min 21s\n",
      "Wall time: 4min 47s\n"
     ]
    }
   ],
   "source": [
    "%%time\n",
    "precomputed_transitions = {}\n",
    "for bl in branch_lengths:\n",
    "    where_next = np.linalg.matrix_power(exponentiated, bl)\n",
    "    where_next[where_next <= 0] = 1e-99\n",
    "    precomputed_transitions[bl] = where_next"
   ]
  },
  {
   "cell_type": "code",
   "execution_count": 30,
   "id": "2e680a0e-32f5-4cf9-b466-f45ca075131b",
   "metadata": {},
   "outputs": [
    {
     "name": "stdout",
     "output_type": "stream",
     "text": [
      "CPU times: user 53min 45s, sys: 1min 18s, total: 55min 3s\n",
      "Wall time: 4min 47s\n"
     ]
    }
   ],
   "source": [
    "%%time\n",
    "precomputed_transitions_old = {}\n",
    "for tree in trees:\n",
    "    for node in tree.nodes(order=\"timeasc\"):\n",
    "        bl = int(tree.branch_length(node))\n",
    "        if bl not in precomputed_transitions_old:\n",
    "            where_next = np.linalg.matrix_power(exponentiated, bl)\n",
    "            where_next[where_next <= 0] = 1e-99\n",
    "            precomputed_transitions_old[bl] = where_next"
   ]
  },
  {
   "cell_type": "code",
   "execution_count": 9,
   "id": "588d0c86-772f-4d43-bf27-a912488e8fd5",
   "metadata": {},
   "outputs": [
    {
     "name": "stdout",
     "output_type": "stream",
     "text": [
      "(np.float64(-12445.65279415648), [np.float64(-12445.65279415648)])\n",
      "(np.float64(-12445.65279415648), [np.float64(-12445.65279415648)])\n"
     ]
    }
   ],
   "source": [
    "def _calc_tree_log_likelihood(tree, sample_location_vectors, transition_matrix=None, precomputed_transitions=None):\n",
    "    \"\"\"Calculates the log_likelihood of the tree using Felsenstein's Pruning Algorithm.\n",
    "\n",
    "    NOTE: Assumes that samples are always tips on the tree.\n",
    "    NOTE: Ignores samples that are completely detached from the tree(s).\n",
    "    NOTE: Parent of sample cannot have the same time as sample.\n",
    "\n",
    "    Parameters\n",
    "    ----------\n",
    "    tree : tskit.Tree\n",
    "        This is a tree taken from the tskit.TreeSequence.\n",
    "    sample_location_vectors : dict\n",
    "        Contains all of the location vectors for the samples\n",
    "    transition_matrix : np.matrix\n",
    "        Instantaneous migration rate matrix between demes\n",
    "\n",
    "    Returns\n",
    "    -------\n",
    "    tree_likelihood : float\n",
    "        likelihood of the tree (product of the root likelihoods)\n",
    "    root_log_likes : list\n",
    "        List of root likelihoods (sum of the root locations vector)\n",
    "    \"\"\"\n",
    "\n",
    "    if precomputed_transitions == None:\n",
    "        if not isinstance(transition_matrix, np.ndarray):\n",
    "            raise RuntimeError(\"Must provide either a transition matrix or precomputed transitions.\")\n",
    "        else:\n",
    "            precomputed_transitions = {}\n",
    "            for node in tree.nodes(order=\"timeasc\"):\n",
    "                bl = tree.branch_length(node)\n",
    "                if bl not in precomputed_transitions:\n",
    "                    where_next = linalg.expm(transition_matrix*bl)\n",
    "                    if np.any(where_next <= 0):\n",
    "                        where_next[where_next <= 0] = 1e-99\n",
    "                    precomputed_transitions[bl] = where_next\n",
    "   \n",
    "    #log_messages = {l:calculate_first_messages(sample_location_vectors[l], precomputed_transitions[tree.branch_length(l)]) for l in sample_location_vectors if tree.branch_length(l)>0}\n",
    "    log_messages = {}\n",
    "    for l in sample_location_vectors:\n",
    "        bl = int(tree.branch_length(l))\n",
    "        if bl > 0:\n",
    "            log_messages[l] = np.log(np.dot(sample_location_vectors[l], precomputed_transitions[bl])) #np.log(np.matmul(sample_location_vectors[l], precomputed_transitions[bl]))\n",
    "    \n",
    "    for node in tree.nodes(order=\"timeasc\"):\n",
    "        children = tree.children(node)\n",
    "        if len(children) > 0:\n",
    "            incoming_log_messages = []\n",
    "            for child in children:\n",
    "                incoming_log_messages.append(log_messages[child])\n",
    "            summed_log_messages = np.sum(incoming_log_messages, axis=0)\n",
    "            bl = int(tree.branch_length(node))\n",
    "            if bl > 0:\n",
    "                outgoing_log_message = np.array([logsumexp(np.log(precomputed_transitions[bl]).T + summed_log_messages, axis=1)])\n",
    "            else:\n",
    "                outgoing_log_message = summed_log_messages\n",
    "            log_messages[node] = outgoing_log_message\n",
    "    roots = tree.roots\n",
    "    root_log_likes = [logsumexp(log_messages[r]) for r in roots if r not in sample_location_vectors]\n",
    "    tree_likelihood = sum(root_log_likes)\n",
    "    return tree_likelihood, root_log_likes\n",
    "\n",
    "print(_calc_tree_log_likelihood(tree=trees[0], sample_location_vectors=world_map.sample_location_vectors, precomputed_transitions=precomputed_transitions))\n",
    "print(_calc_tree_log_likelihood(tree=trees[0], sample_location_vectors=world_map.sample_location_vectors, precomputed_transitions=precomputed_transitions_new))"
   ]
  },
  {
   "cell_type": "code",
   "execution_count": 10,
   "id": "386a6e8e-e2e2-4981-b1bd-f99b11f03d51",
   "metadata": {
    "scrolled": true
   },
   "outputs": [
    {
     "name": "stdout",
     "output_type": "stream",
     "text": [
      "0.0\n",
      "-8.890301229800124e-97\n",
      "6.5233403819991486e-15\n",
      "-3.208401792303294e-14\n",
      "-2.1211372623202385e-14\n",
      "-2.878881318122407e-14\n",
      "-8.614466752270221e-15\n",
      "-8.644452341444175e-15\n",
      "1.9612729409285157e-14\n",
      "-2.06304699885973e-14\n",
      "-3.181266014506967e-15\n",
      "1.1797637519683768e-14\n",
      "4.449110350968066e-14\n",
      "5.482723650085397e-14\n",
      "2.504311862050468e-14\n",
      "5.047871842744911e-14\n"
     ]
    }
   ],
   "source": [
    "for i in precomputed_transitions:\n",
    "    print(np.sum(precomputed_transitions[i] - precomputed_transitions_new[i]))"
   ]
  },
  {
   "cell_type": "code",
   "execution_count": 93,
   "id": "8687d230-97ed-44a3-9fd2-246ac1a11578",
   "metadata": {},
   "outputs": [
    {
     "name": "stdout",
     "output_type": "stream",
     "text": [
      "CPU times: user 242 ms, sys: 2.24 ms, total: 244 ms\n",
      "Wall time: 243 ms\n"
     ]
    }
   ],
   "source": [
    "%%time\n",
    "branch_lengths = []\n",
    "for tree in trees:\n",
    "    for node in tree.nodes(order=\"timeasc\"):\n",
    "        bl = int(tree.branch_length(node))\n",
    "        if bl not in branch_lengths:\n",
    "            branch_lengths.append(bl)"
   ]
  },
  {
   "cell_type": "code",
   "execution_count": 120,
   "id": "1be99f11-6cec-4a90-b56b-e1bed79cc52e",
   "metadata": {},
   "outputs": [
    {
     "name": "stdout",
     "output_type": "stream",
     "text": [
      "CPU times: user 15min 10s, sys: 24.7 s, total: 15min 34s\n",
      "Wall time: 1min 30s\n"
     ]
    }
   ],
   "source": [
    "%%time\n",
    "precomputed_transitions = {}\n",
    "for tree in trees[:2]:\n",
    "    for node in tree.nodes(order=\"timeasc\"):\n",
    "        bl = int(tree.branch_length(node))\n",
    "        if bl not in precomputed_transitions:\n",
    "            where_next = np.linalg.matrix_power(exponentiated, bl) #forces branch lengths to be integer. Could be an issue for bl<1\n",
    "            where_next[where_next <= 0] = 1e-99\n",
    "            precomputed_transitions[bl] = where_next"
   ]
  },
  {
   "cell_type": "code",
   "execution_count": null,
   "id": "da272a24-1750-47c0-a119-5200b0ae1b2d",
   "metadata": {},
   "outputs": [],
   "source": [
    "CPU times: user 8min 9s, sys: 9.31 s, total: 8min 18s\n",
    "Wall time: 45.8 s"
   ]
  },
  {
   "cell_type": "code",
   "execution_count": 120,
   "id": "99dd1d80-b05a-4704-8922-4bbe05474536",
   "metadata": {},
   "outputs": [],
   "source": [
    "def calculate_first_messages(loc_vec, transition_prob):\n",
    "    return np.log(np.dot(loc_vec, np.exp(transition_prob.T)))\n",
    "    \n",
    "    \n",
    "def _calc_tree_log_likelihood(tree, sample_location_vectors, transition_matrix=None, precomputed_transitions=None):\n",
    "    \"\"\"Calculates the log_likelihood of the tree using Felsenstein's Pruning Algorithm.\n",
    "\n",
    "    NOTE: Assumes that samples are always tips on the tree.\n",
    "    NOTE: Ignores samples that are completely detached from the tree(s).\n",
    "    NOTE: Parent of sample cannot have the same time as sample.\n",
    "\n",
    "    Parameters\n",
    "    ----------\n",
    "    tree : tskit.Tree\n",
    "        This is a tree taken from the tskit.TreeSequence.\n",
    "    sample_location_vectors : dict\n",
    "        Contains all of the location vectors for the samples\n",
    "    transition_matrix : np.matrix\n",
    "        Instantaneous migration rate matrix between demes\n",
    "\n",
    "    Returns\n",
    "    -------\n",
    "    tree_likelihood : float\n",
    "        likelihood of the tree (product of the root likelihoods)\n",
    "    root_log_likes : list\n",
    "        List of root likelihoods (sum of the root locations vector)\n",
    "    \"\"\"\n",
    "\n",
    "    if precomputed_transitions == None:\n",
    "        if not isinstance(transition_matrix, np.ndarray):\n",
    "            raise RuntimeError(\"Must provide either a transition matrix or precomputed transitions.\")\n",
    "        else:\n",
    "            precomputed_transitions = {}\n",
    "            for node in tree.nodes(order=\"timeasc\"):\n",
    "                bl = tree.branch_length(node)\n",
    "                if bl not in precomputed_transitions:\n",
    "                    where_next = linalg.expm(transition_matrix*bl)\n",
    "                    if np.any(where_next <= 0):\n",
    "                        where_next[where_next <= 0] = 1e-99\n",
    "                    precomputed_transitions[bl] = where_next\n",
    "   \n",
    "    #log_messages = {l:calculate_first_messages(sample_location_vectors[l], precomputed_transitions[tree.branch_length(l)]) for l in sample_location_vectors if tree.branch_length(l)>0}\n",
    "    log_messages = {}\n",
    "    for l in sample_location_vectors:\n",
    "        bl = tree.branch_length(l)\n",
    "        if bl > 0:\n",
    "            log_messages[l] = np.log(np.dot(sample_location_vectors[l], precomputed_transitions[bl])) #np.log(np.matmul(sample_location_vectors[l], precomputed_transitions[bl]))\n",
    "\n",
    "    for node in tree.nodes(order=\"timeasc\"):\n",
    "        children = tree.children(node)\n",
    "        if len(children) > 0:\n",
    "            incoming_log_messages = []\n",
    "            for child in children:\n",
    "                incoming_log_messages.append(log_messages[child])\n",
    "            summed_log_messages = np.sum(incoming_log_messages, axis=0)\n",
    "            bl = tree.branch_length(node)\n",
    "            if bl > 0:\n",
    "                outgoing_log_message = np.array([logsumexp(np.log(precomputed_transitions[bl]).T + summed_log_messages, axis=1)])\n",
    "            else:\n",
    "                outgoing_log_message = summed_log_messages\n",
    "            log_messages[node] = outgoing_log_message\n",
    "    roots = tree.roots\n",
    "    root_log_likes = [logsumexp(log_messages[r]) for r in roots if r not in sample_location_vectors]\n",
    "    tree_likelihood = sum(root_log_likes)\n",
    "    return tree_likelihood, root_log_likes"
   ]
  },
  {
   "cell_type": "code",
   "execution_count": 121,
   "id": "7ed91e8c-9c51-4536-93b3-2fc92443523b",
   "metadata": {},
   "outputs": [
    {
     "name": "stdout",
     "output_type": "stream",
     "text": [
      "CPU times: user 15min 7s, sys: 28.9 s, total: 15min 36s\n",
      "Wall time: 1min 45s\n"
     ]
    },
    {
     "data": {
      "text/plain": [
       "(np.float64(9.24395820829972), [np.float64(9.24395820829972)])"
      ]
     },
     "execution_count": 121,
     "metadata": {},
     "output_type": "execute_result"
    }
   ],
   "source": [
    "%time _calc_tree_log_likelihood(tree=trees[0], sample_location_vectors=world_map.sample_location_vectors, transition_matrix=world_map.build_transition_matrix(migration_rates=migration_rates))"
   ]
  },
  {
   "cell_type": "code",
   "execution_count": 118,
   "id": "70ef3c4b-5300-4fcf-aab8-9255fb74d8d4",
   "metadata": {},
   "outputs": [
    {
     "name": "stdout",
     "output_type": "stream",
     "text": [
      "CPU times: user 14min 16s, sys: 20.4 s, total: 14min 36s\n",
      "Wall time: 1min 28s\n"
     ]
    },
    {
     "data": {
      "text/plain": [
       "(np.float64(-12730.671311846883), [np.float64(-12730.671311846883)])"
      ]
     },
     "execution_count": 118,
     "metadata": {},
     "output_type": "execute_result"
    }
   ],
   "source": [
    "%time _calc_tree_log_likelihood(tree=trees[0], sample_location_vectors=world_map.sample_location_vectors, transition_matrix=world_map.build_transition_matrix(migration_rates=migration_rates))"
   ]
  },
  {
   "cell_type": "code",
   "execution_count": 111,
   "id": "44a03e2c-88aa-4233-a70c-336d2eae9e15",
   "metadata": {},
   "outputs": [
    {
     "name": "stdout",
     "output_type": "stream",
     "text": [
      "CPU times: user 2min 58s, sys: 6.45 s, total: 3min 4s\n",
      "Wall time: 20.7 s\n"
     ]
    },
    {
     "data": {
      "text/plain": [
       "(np.float64(-12445.65279415648), [np.float64(-12445.65279415648)])"
      ]
     },
     "execution_count": 111,
     "metadata": {},
     "output_type": "execute_result"
    }
   ],
   "source": [
    "%time _calc_tree_log_likelihood(tree=trees[0], sample_location_vectors=world_map.sample_location_vectors, precomputed_transitions=precomputed_transitions)"
   ]
  },
  {
   "cell_type": "code",
   "execution_count": 103,
   "id": "12b95c57-127d-49c9-a349-2032eac47b97",
   "metadata": {},
   "outputs": [
    {
     "name": "stdout",
     "output_type": "stream",
     "text": [
      "CPU times: user 28.3 s, sys: 496 ms, total: 28.8 s\n",
      "Wall time: 17.1 s\n"
     ]
    },
    {
     "data": {
      "text/plain": [
       "(np.float64(-12730.79775661428), [np.float64(-12730.79775661428)])"
      ]
     },
     "execution_count": 103,
     "metadata": {},
     "output_type": "execute_result"
    }
   ],
   "source": [
    "%time _calc_tree_log_likelihood(tree=trees[0], sample_location_vectors=world_map.sample_location_vectors, precomputed_transitions=precomputed_transitions)"
   ]
  },
  {
   "cell_type": "code",
   "execution_count": 3,
   "id": "5bbf66c4-4260-4e8e-b8e4-1adc95cab181",
   "metadata": {},
   "outputs": [
    {
     "name": "stderr",
     "output_type": "stream",
     "text": [
      "/opt/anaconda3/envs/terracotta/lib/python3.12/site-packages/numpy/linalg/_linalg.py:3383: RuntimeWarning: overflow encountered in matmul\n",
      "  return _core_matmul(x1, x2)\n",
      "/Users/jameskitchens/Documents/GitHub/terracotta/terracotta/main.py:296: RuntimeWarning: invalid value encountered in matmul\n",
      "  log_messages[l] = np.log(np.matmul(sample_location_vectors[l], precomputed_transitions[bl]))\n",
      "/opt/anaconda3/envs/terracotta/lib/python3.12/site-packages/scipy/linalg/_matfuncs.py:373: RuntimeWarning: overflow encountered in matmul\n",
      "  eAw = eAw @ eAw\n",
      "/opt/anaconda3/envs/terracotta/lib/python3.12/site-packages/scipy/linalg/_matfuncs.py:373: RuntimeWarning: invalid value encountered in matmul\n",
      "  eAw = eAw @ eAw\n",
      "/opt/anaconda3/envs/terracotta/lib/python3.12/site-packages/numpy/linalg/_linalg.py:3383: RuntimeWarning: invalid value encountered in matmul\n",
      "  return _core_matmul(x1, x2)\n"
     ]
    },
    {
     "ename": "KeyboardInterrupt",
     "evalue": "",
     "output_type": "error",
     "traceback": [
      "\u001b[31m---------------------------------------------------------------------------\u001b[39m",
      "\u001b[31mKeyboardInterrupt\u001b[39m                         Traceback (most recent call last)",
      "\u001b[36mCell\u001b[39m\u001b[36m \u001b[39m\u001b[32mIn[3]\u001b[39m\u001b[32m, line 2\u001b[39m\n\u001b[32m      1\u001b[39m initial_mr = np.array([np.random.uniform(\u001b[32m0\u001b[39m, \u001b[32m0.02\u001b[39m) \u001b[38;5;28;01mfor\u001b[39;00m connection_type \u001b[38;5;129;01min\u001b[39;00m world_map.connections.type.unique()])\n\u001b[32m----> \u001b[39m\u001b[32m2\u001b[39m \u001b[43mminimize\u001b[49m\u001b[43m(\u001b[49m\u001b[43mtct\u001b[49m\u001b[43m.\u001b[49m\u001b[43moptimize\u001b[49m\u001b[43m.\u001b[49m\u001b[43mrun\u001b[49m\u001b[43m,\u001b[49m\u001b[43m \u001b[49m\u001b[43minitial_mr\u001b[49m\u001b[43m,\u001b[49m\u001b[43m \u001b[49m\u001b[43margs\u001b[49m\u001b[43m=\u001b[49m\u001b[43m(\u001b[49m\u001b[43mworld_map\u001b[49m\u001b[43m,\u001b[49m\u001b[43m \u001b[49m\u001b[43mtrees\u001b[49m\u001b[43m[\u001b[49m\u001b[43m:\u001b[49m\u001b[32;43m1\u001b[39;49m\u001b[43m]\u001b[49m\u001b[43m)\u001b[49m\u001b[43m,\u001b[49m\u001b[43m \u001b[49m\u001b[43mmethod\u001b[49m\u001b[43m=\u001b[49m\u001b[33;43m\"\u001b[39;49m\u001b[33;43mBFGS\u001b[39;49m\u001b[33;43m\"\u001b[39;49m\u001b[43m,\u001b[49m\u001b[43m \u001b[49m\u001b[43moptions\u001b[49m\u001b[43m=\u001b[49m\u001b[43m{\u001b[49m\u001b[33;43m\"\u001b[39;49m\u001b[33;43mdisp\u001b[39;49m\u001b[33;43m\"\u001b[39;49m\u001b[43m:\u001b[49m\u001b[38;5;28;43;01mTrue\u001b[39;49;00m\u001b[43m}\u001b[49m\u001b[43m)\u001b[49m\n",
      "\u001b[36mFile \u001b[39m\u001b[32m/opt/anaconda3/envs/terracotta/lib/python3.12/site-packages/scipy/optimize/_minimize.py:733\u001b[39m, in \u001b[36mminimize\u001b[39m\u001b[34m(fun, x0, args, method, jac, hess, hessp, bounds, constraints, tol, callback, options)\u001b[39m\n\u001b[32m    731\u001b[39m     res = _minimize_cg(fun, x0, args, jac, callback, **options)\n\u001b[32m    732\u001b[39m \u001b[38;5;28;01melif\u001b[39;00m meth == \u001b[33m'\u001b[39m\u001b[33mbfgs\u001b[39m\u001b[33m'\u001b[39m:\n\u001b[32m--> \u001b[39m\u001b[32m733\u001b[39m     res = \u001b[43m_minimize_bfgs\u001b[49m\u001b[43m(\u001b[49m\u001b[43mfun\u001b[49m\u001b[43m,\u001b[49m\u001b[43m \u001b[49m\u001b[43mx0\u001b[49m\u001b[43m,\u001b[49m\u001b[43m \u001b[49m\u001b[43margs\u001b[49m\u001b[43m,\u001b[49m\u001b[43m \u001b[49m\u001b[43mjac\u001b[49m\u001b[43m,\u001b[49m\u001b[43m \u001b[49m\u001b[43mcallback\u001b[49m\u001b[43m,\u001b[49m\u001b[43m \u001b[49m\u001b[43m*\u001b[49m\u001b[43m*\u001b[49m\u001b[43moptions\u001b[49m\u001b[43m)\u001b[49m\n\u001b[32m    734\u001b[39m \u001b[38;5;28;01melif\u001b[39;00m meth == \u001b[33m'\u001b[39m\u001b[33mnewton-cg\u001b[39m\u001b[33m'\u001b[39m:\n\u001b[32m    735\u001b[39m     res = _minimize_newtoncg(fun, x0, args, jac, hess, hessp, callback,\n\u001b[32m    736\u001b[39m                              **options)\n",
      "\u001b[36mFile \u001b[39m\u001b[32m/opt/anaconda3/envs/terracotta/lib/python3.12/site-packages/scipy/optimize/_optimize.py:1419\u001b[39m, in \u001b[36m_minimize_bfgs\u001b[39m\u001b[34m(fun, x0, args, jac, callback, gtol, norm, eps, maxiter, disp, return_all, finite_diff_rel_step, xrtol, c1, c2, hess_inv0, **unknown_options)\u001b[39m\n\u001b[32m   1416\u001b[39m pk = -np.dot(Hk, gfk)\n\u001b[32m   1417\u001b[39m \u001b[38;5;28;01mtry\u001b[39;00m:\n\u001b[32m   1418\u001b[39m     alpha_k, fc, gc, old_fval, old_old_fval, gfkp1 = \\\n\u001b[32m-> \u001b[39m\u001b[32m1419\u001b[39m              \u001b[43m_line_search_wolfe12\u001b[49m\u001b[43m(\u001b[49m\u001b[43mf\u001b[49m\u001b[43m,\u001b[49m\u001b[43m \u001b[49m\u001b[43mmyfprime\u001b[49m\u001b[43m,\u001b[49m\u001b[43m \u001b[49m\u001b[43mxk\u001b[49m\u001b[43m,\u001b[49m\u001b[43m \u001b[49m\u001b[43mpk\u001b[49m\u001b[43m,\u001b[49m\u001b[43m \u001b[49m\u001b[43mgfk\u001b[49m\u001b[43m,\u001b[49m\n\u001b[32m   1420\u001b[39m \u001b[43m                                  \u001b[49m\u001b[43mold_fval\u001b[49m\u001b[43m,\u001b[49m\u001b[43m \u001b[49m\u001b[43mold_old_fval\u001b[49m\u001b[43m,\u001b[49m\u001b[43m \u001b[49m\u001b[43mamin\u001b[49m\u001b[43m=\u001b[49m\u001b[32;43m1e-100\u001b[39;49m\u001b[43m,\u001b[49m\n\u001b[32m   1421\u001b[39m \u001b[43m                                  \u001b[49m\u001b[43mamax\u001b[49m\u001b[43m=\u001b[49m\u001b[32;43m1e100\u001b[39;49m\u001b[43m,\u001b[49m\u001b[43m \u001b[49m\u001b[43mc1\u001b[49m\u001b[43m=\u001b[49m\u001b[43mc1\u001b[49m\u001b[43m,\u001b[49m\u001b[43m \u001b[49m\u001b[43mc2\u001b[49m\u001b[43m=\u001b[49m\u001b[43mc2\u001b[49m\u001b[43m)\u001b[49m\n\u001b[32m   1422\u001b[39m \u001b[38;5;28;01mexcept\u001b[39;00m _LineSearchError:\n\u001b[32m   1423\u001b[39m     \u001b[38;5;66;03m# Line search failed to find a better solution.\u001b[39;00m\n\u001b[32m   1424\u001b[39m     warnflag = \u001b[32m2\u001b[39m\n",
      "\u001b[36mFile \u001b[39m\u001b[32m/opt/anaconda3/envs/terracotta/lib/python3.12/site-packages/scipy/optimize/_optimize.py:1155\u001b[39m, in \u001b[36m_line_search_wolfe12\u001b[39m\u001b[34m(f, fprime, xk, pk, gfk, old_fval, old_old_fval, **kwargs)\u001b[39m\n\u001b[32m   1141\u001b[39m \u001b[38;5;250m\u001b[39m\u001b[33;03m\"\"\"\u001b[39;00m\n\u001b[32m   1142\u001b[39m \u001b[33;03mSame as line_search_wolfe1, but fall back to line_search_wolfe2 if\u001b[39;00m\n\u001b[32m   1143\u001b[39m \u001b[33;03msuitable step length is not found, and raise an exception if a\u001b[39;00m\n\u001b[32m   (...)\u001b[39m\u001b[32m   1150\u001b[39m \n\u001b[32m   1151\u001b[39m \u001b[33;03m\"\"\"\u001b[39;00m\n\u001b[32m   1153\u001b[39m extra_condition = kwargs.pop(\u001b[33m'\u001b[39m\u001b[33mextra_condition\u001b[39m\u001b[33m'\u001b[39m, \u001b[38;5;28;01mNone\u001b[39;00m)\n\u001b[32m-> \u001b[39m\u001b[32m1155\u001b[39m ret = \u001b[43mline_search_wolfe1\u001b[49m\u001b[43m(\u001b[49m\u001b[43mf\u001b[49m\u001b[43m,\u001b[49m\u001b[43m \u001b[49m\u001b[43mfprime\u001b[49m\u001b[43m,\u001b[49m\u001b[43m \u001b[49m\u001b[43mxk\u001b[49m\u001b[43m,\u001b[49m\u001b[43m \u001b[49m\u001b[43mpk\u001b[49m\u001b[43m,\u001b[49m\u001b[43m \u001b[49m\u001b[43mgfk\u001b[49m\u001b[43m,\u001b[49m\n\u001b[32m   1156\u001b[39m \u001b[43m                         \u001b[49m\u001b[43mold_fval\u001b[49m\u001b[43m,\u001b[49m\u001b[43m \u001b[49m\u001b[43mold_old_fval\u001b[49m\u001b[43m,\u001b[49m\n\u001b[32m   1157\u001b[39m \u001b[43m                         \u001b[49m\u001b[43m*\u001b[49m\u001b[43m*\u001b[49m\u001b[43mkwargs\u001b[49m\u001b[43m)\u001b[49m\n\u001b[32m   1159\u001b[39m \u001b[38;5;28;01mif\u001b[39;00m ret[\u001b[32m0\u001b[39m] \u001b[38;5;129;01mis\u001b[39;00m \u001b[38;5;129;01mnot\u001b[39;00m \u001b[38;5;28;01mNone\u001b[39;00m \u001b[38;5;129;01mand\u001b[39;00m extra_condition \u001b[38;5;129;01mis\u001b[39;00m \u001b[38;5;129;01mnot\u001b[39;00m \u001b[38;5;28;01mNone\u001b[39;00m:\n\u001b[32m   1160\u001b[39m     xp1 = xk + ret[\u001b[32m0\u001b[39m] * pk\n",
      "\u001b[36mFile \u001b[39m\u001b[32m/opt/anaconda3/envs/terracotta/lib/python3.12/site-packages/scipy/optimize/_linesearch.py:93\u001b[39m, in \u001b[36mline_search_wolfe1\u001b[39m\u001b[34m(f, fprime, xk, pk, gfk, old_fval, old_old_fval, args, c1, c2, amax, amin, xtol)\u001b[39m\n\u001b[32m     89\u001b[39m     \u001b[38;5;28;01mreturn\u001b[39;00m np.dot(gval[\u001b[32m0\u001b[39m], pk)\n\u001b[32m     91\u001b[39m derphi0 = np.dot(gfk, pk)\n\u001b[32m---> \u001b[39m\u001b[32m93\u001b[39m stp, fval, old_fval = \u001b[43mscalar_search_wolfe1\u001b[49m\u001b[43m(\u001b[49m\n\u001b[32m     94\u001b[39m \u001b[43m        \u001b[49m\u001b[43mphi\u001b[49m\u001b[43m,\u001b[49m\u001b[43m \u001b[49m\u001b[43mderphi\u001b[49m\u001b[43m,\u001b[49m\u001b[43m \u001b[49m\u001b[43mold_fval\u001b[49m\u001b[43m,\u001b[49m\u001b[43m \u001b[49m\u001b[43mold_old_fval\u001b[49m\u001b[43m,\u001b[49m\u001b[43m \u001b[49m\u001b[43mderphi0\u001b[49m\u001b[43m,\u001b[49m\n\u001b[32m     95\u001b[39m \u001b[43m        \u001b[49m\u001b[43mc1\u001b[49m\u001b[43m=\u001b[49m\u001b[43mc1\u001b[49m\u001b[43m,\u001b[49m\u001b[43m \u001b[49m\u001b[43mc2\u001b[49m\u001b[43m=\u001b[49m\u001b[43mc2\u001b[49m\u001b[43m,\u001b[49m\u001b[43m \u001b[49m\u001b[43mamax\u001b[49m\u001b[43m=\u001b[49m\u001b[43mamax\u001b[49m\u001b[43m,\u001b[49m\u001b[43m \u001b[49m\u001b[43mamin\u001b[49m\u001b[43m=\u001b[49m\u001b[43mamin\u001b[49m\u001b[43m,\u001b[49m\u001b[43m \u001b[49m\u001b[43mxtol\u001b[49m\u001b[43m=\u001b[49m\u001b[43mxtol\u001b[49m\u001b[43m)\u001b[49m\n\u001b[32m     97\u001b[39m \u001b[38;5;28;01mreturn\u001b[39;00m stp, fc[\u001b[32m0\u001b[39m], gc[\u001b[32m0\u001b[39m], fval, old_fval, gval[\u001b[32m0\u001b[39m]\n",
      "\u001b[36mFile \u001b[39m\u001b[32m/opt/anaconda3/envs/terracotta/lib/python3.12/site-packages/scipy/optimize/_linesearch.py:170\u001b[39m, in \u001b[36mscalar_search_wolfe1\u001b[39m\u001b[34m(phi, derphi, phi0, old_phi0, derphi0, c1, c2, amax, amin, xtol)\u001b[39m\n\u001b[32m    167\u001b[39m maxiter = \u001b[32m100\u001b[39m\n\u001b[32m    169\u001b[39m dcsrch = DCSRCH(phi, derphi, c1, c2, xtol, amin, amax)\n\u001b[32m--> \u001b[39m\u001b[32m170\u001b[39m stp, phi1, phi0, task = \u001b[43mdcsrch\u001b[49m\u001b[43m(\u001b[49m\n\u001b[32m    171\u001b[39m \u001b[43m    \u001b[49m\u001b[43malpha1\u001b[49m\u001b[43m,\u001b[49m\u001b[43m \u001b[49m\u001b[43mphi0\u001b[49m\u001b[43m=\u001b[49m\u001b[43mphi0\u001b[49m\u001b[43m,\u001b[49m\u001b[43m \u001b[49m\u001b[43mderphi0\u001b[49m\u001b[43m=\u001b[49m\u001b[43mderphi0\u001b[49m\u001b[43m,\u001b[49m\u001b[43m \u001b[49m\u001b[43mmaxiter\u001b[49m\u001b[43m=\u001b[49m\u001b[43mmaxiter\u001b[49m\n\u001b[32m    172\u001b[39m \u001b[43m\u001b[49m\u001b[43m)\u001b[49m\n\u001b[32m    174\u001b[39m \u001b[38;5;28;01mreturn\u001b[39;00m stp, phi1, phi0\n",
      "\u001b[36mFile \u001b[39m\u001b[32m/opt/anaconda3/envs/terracotta/lib/python3.12/site-packages/scipy/optimize/_dcsrch.py:256\u001b[39m, in \u001b[36mDCSRCH.__call__\u001b[39m\u001b[34m(self, alpha1, phi0, derphi0, maxiter)\u001b[39m\n\u001b[32m    254\u001b[39m     alpha1 = stp\n\u001b[32m    255\u001b[39m     phi1 = \u001b[38;5;28mself\u001b[39m.phi(stp)\n\u001b[32m--> \u001b[39m\u001b[32m256\u001b[39m     derphi1 = \u001b[38;5;28;43mself\u001b[39;49m\u001b[43m.\u001b[49m\u001b[43mderphi\u001b[49m\u001b[43m(\u001b[49m\u001b[43mstp\u001b[49m\u001b[43m)\u001b[49m\n\u001b[32m    257\u001b[39m \u001b[38;5;28;01melse\u001b[39;00m:\n\u001b[32m    258\u001b[39m     \u001b[38;5;28;01mbreak\u001b[39;00m\n",
      "\u001b[36mFile \u001b[39m\u001b[32m/opt/anaconda3/envs/terracotta/lib/python3.12/site-packages/scipy/optimize/_linesearch.py:87\u001b[39m, in \u001b[36mline_search_wolfe1.<locals>.derphi\u001b[39m\u001b[34m(s)\u001b[39m\n\u001b[32m     86\u001b[39m \u001b[38;5;28;01mdef\u001b[39;00m\u001b[38;5;250m \u001b[39m\u001b[34mderphi\u001b[39m(s):\n\u001b[32m---> \u001b[39m\u001b[32m87\u001b[39m     gval[\u001b[32m0\u001b[39m] = \u001b[43mfprime\u001b[49m\u001b[43m(\u001b[49m\u001b[43mxk\u001b[49m\u001b[43m \u001b[49m\u001b[43m+\u001b[49m\u001b[43m \u001b[49m\u001b[43ms\u001b[49m\u001b[43m*\u001b[49m\u001b[43mpk\u001b[49m\u001b[43m,\u001b[49m\u001b[43m \u001b[49m\u001b[43m*\u001b[49m\u001b[43margs\u001b[49m\u001b[43m)\u001b[49m\n\u001b[32m     88\u001b[39m     gc[\u001b[32m0\u001b[39m] += \u001b[32m1\u001b[39m\n\u001b[32m     89\u001b[39m     \u001b[38;5;28;01mreturn\u001b[39;00m np.dot(gval[\u001b[32m0\u001b[39m], pk)\n",
      "\u001b[36mFile \u001b[39m\u001b[32m/opt/anaconda3/envs/terracotta/lib/python3.12/site-packages/scipy/optimize/_differentiable_functions.py:332\u001b[39m, in \u001b[36mScalarFunction.grad\u001b[39m\u001b[34m(self, x)\u001b[39m\n\u001b[32m    330\u001b[39m \u001b[38;5;28;01mif\u001b[39;00m \u001b[38;5;129;01mnot\u001b[39;00m np.array_equal(x, \u001b[38;5;28mself\u001b[39m.x):\n\u001b[32m    331\u001b[39m     \u001b[38;5;28mself\u001b[39m._update_x(x)\n\u001b[32m--> \u001b[39m\u001b[32m332\u001b[39m \u001b[38;5;28;43mself\u001b[39;49m\u001b[43m.\u001b[49m\u001b[43m_update_grad\u001b[49m\u001b[43m(\u001b[49m\u001b[43m)\u001b[49m\n\u001b[32m    333\u001b[39m \u001b[38;5;28;01mreturn\u001b[39;00m \u001b[38;5;28mself\u001b[39m.g\n",
      "\u001b[36mFile \u001b[39m\u001b[32m/opt/anaconda3/envs/terracotta/lib/python3.12/site-packages/scipy/optimize/_differentiable_functions.py:307\u001b[39m, in \u001b[36mScalarFunction._update_grad\u001b[39m\u001b[34m(self)\u001b[39m\n\u001b[32m    305\u001b[39m \u001b[38;5;28;01mif\u001b[39;00m \u001b[38;5;28mself\u001b[39m._orig_grad \u001b[38;5;129;01min\u001b[39;00m FD_METHODS:\n\u001b[32m    306\u001b[39m     \u001b[38;5;28mself\u001b[39m._update_fun()\n\u001b[32m--> \u001b[39m\u001b[32m307\u001b[39m \u001b[38;5;28mself\u001b[39m.g = \u001b[38;5;28;43mself\u001b[39;49m\u001b[43m.\u001b[49m\u001b[43m_wrapped_grad\u001b[49m\u001b[43m(\u001b[49m\u001b[38;5;28;43mself\u001b[39;49m\u001b[43m.\u001b[49m\u001b[43mx\u001b[49m\u001b[43m,\u001b[49m\u001b[43m \u001b[49m\u001b[43mf0\u001b[49m\u001b[43m=\u001b[49m\u001b[38;5;28;43mself\u001b[39;49m\u001b[43m.\u001b[49m\u001b[43mf\u001b[49m\u001b[43m)\u001b[49m\n\u001b[32m    308\u001b[39m \u001b[38;5;28mself\u001b[39m.g_updated = \u001b[38;5;28;01mTrue\u001b[39;00m\n",
      "\u001b[36mFile \u001b[39m\u001b[32m/opt/anaconda3/envs/terracotta/lib/python3.12/site-packages/scipy/optimize/_differentiable_functions.py:48\u001b[39m, in \u001b[36m_wrapper_grad.<locals>.wrapped1\u001b[39m\u001b[34m(x, f0)\u001b[39m\n\u001b[32m     46\u001b[39m \u001b[38;5;28;01mdef\u001b[39;00m\u001b[38;5;250m \u001b[39m\u001b[34mwrapped1\u001b[39m(x, f0=\u001b[38;5;28;01mNone\u001b[39;00m):\n\u001b[32m     47\u001b[39m     ncalls[\u001b[32m0\u001b[39m] += \u001b[32m1\u001b[39m\n\u001b[32m---> \u001b[39m\u001b[32m48\u001b[39m     \u001b[38;5;28;01mreturn\u001b[39;00m \u001b[43mapprox_derivative\u001b[49m\u001b[43m(\u001b[49m\n\u001b[32m     49\u001b[39m \u001b[43m        \u001b[49m\u001b[43mfun\u001b[49m\u001b[43m,\u001b[49m\u001b[43m \u001b[49m\u001b[43mx\u001b[49m\u001b[43m,\u001b[49m\u001b[43m \u001b[49m\u001b[43mf0\u001b[49m\u001b[43m=\u001b[49m\u001b[43mf0\u001b[49m\u001b[43m,\u001b[49m\u001b[43m \u001b[49m\u001b[43m*\u001b[49m\u001b[43m*\u001b[49m\u001b[43mfinite_diff_options\u001b[49m\n\u001b[32m     50\u001b[39m \u001b[43m    \u001b[49m\u001b[43m)\u001b[49m\n",
      "\u001b[36mFile \u001b[39m\u001b[32m/opt/anaconda3/envs/terracotta/lib/python3.12/site-packages/scipy/optimize/_numdiff.py:523\u001b[39m, in \u001b[36mapprox_derivative\u001b[39m\u001b[34m(fun, x0, method, rel_step, abs_step, f0, bounds, sparsity, as_linear_operator, args, kwargs)\u001b[39m\n\u001b[32m    520\u001b[39m     use_one_sided = \u001b[38;5;28;01mFalse\u001b[39;00m\n\u001b[32m    522\u001b[39m \u001b[38;5;28;01mif\u001b[39;00m sparsity \u001b[38;5;129;01mis\u001b[39;00m \u001b[38;5;28;01mNone\u001b[39;00m:\n\u001b[32m--> \u001b[39m\u001b[32m523\u001b[39m     \u001b[38;5;28;01mreturn\u001b[39;00m \u001b[43m_dense_difference\u001b[49m\u001b[43m(\u001b[49m\u001b[43mfun_wrapped\u001b[49m\u001b[43m,\u001b[49m\u001b[43m \u001b[49m\u001b[43mx0\u001b[49m\u001b[43m,\u001b[49m\u001b[43m \u001b[49m\u001b[43mf0\u001b[49m\u001b[43m,\u001b[49m\u001b[43m \u001b[49m\u001b[43mh\u001b[49m\u001b[43m,\u001b[49m\n\u001b[32m    524\u001b[39m \u001b[43m                             \u001b[49m\u001b[43muse_one_sided\u001b[49m\u001b[43m,\u001b[49m\u001b[43m \u001b[49m\u001b[43mmethod\u001b[49m\u001b[43m)\u001b[49m\n\u001b[32m    525\u001b[39m \u001b[38;5;28;01melse\u001b[39;00m:\n\u001b[32m    526\u001b[39m     \u001b[38;5;28;01mif\u001b[39;00m \u001b[38;5;129;01mnot\u001b[39;00m issparse(sparsity) \u001b[38;5;129;01mand\u001b[39;00m \u001b[38;5;28mlen\u001b[39m(sparsity) == \u001b[32m2\u001b[39m:\n",
      "\u001b[36mFile \u001b[39m\u001b[32m/opt/anaconda3/envs/terracotta/lib/python3.12/site-packages/scipy/optimize/_numdiff.py:596\u001b[39m, in \u001b[36m_dense_difference\u001b[39m\u001b[34m(fun, x0, f0, h, use_one_sided, method)\u001b[39m\n\u001b[32m    594\u001b[39m     x1[i] += h[i]\n\u001b[32m    595\u001b[39m     dx = x1[i] - x0[i]  \u001b[38;5;66;03m# Recompute dx as exactly representable number.\u001b[39;00m\n\u001b[32m--> \u001b[39m\u001b[32m596\u001b[39m     df = \u001b[43mfun\u001b[49m\u001b[43m(\u001b[49m\u001b[43mx1\u001b[49m\u001b[43m)\u001b[49m - f0\n\u001b[32m    597\u001b[39m \u001b[38;5;28;01melif\u001b[39;00m method == \u001b[33m'\u001b[39m\u001b[33m3-point\u001b[39m\u001b[33m'\u001b[39m \u001b[38;5;129;01mand\u001b[39;00m use_one_sided[i]:\n\u001b[32m    598\u001b[39m     x1[i] += h[i]\n",
      "\u001b[36mFile \u001b[39m\u001b[32m/opt/anaconda3/envs/terracotta/lib/python3.12/site-packages/scipy/optimize/_numdiff.py:474\u001b[39m, in \u001b[36mapprox_derivative.<locals>.fun_wrapped\u001b[39m\u001b[34m(x)\u001b[39m\n\u001b[32m    471\u001b[39m \u001b[38;5;28;01mif\u001b[39;00m xp.isdtype(x.dtype, \u001b[33m\"\u001b[39m\u001b[33mreal floating\u001b[39m\u001b[33m\"\u001b[39m):\n\u001b[32m    472\u001b[39m     x = xp.astype(x, x0.dtype)\n\u001b[32m--> \u001b[39m\u001b[32m474\u001b[39m f = np.atleast_1d(\u001b[43mfun\u001b[49m\u001b[43m(\u001b[49m\u001b[43mx\u001b[49m\u001b[43m,\u001b[49m\u001b[43m \u001b[49m\u001b[43m*\u001b[49m\u001b[43margs\u001b[49m\u001b[43m,\u001b[49m\u001b[43m \u001b[49m\u001b[43m*\u001b[49m\u001b[43m*\u001b[49m\u001b[43mkwargs\u001b[49m\u001b[43m)\u001b[49m)\n\u001b[32m    475\u001b[39m \u001b[38;5;28;01mif\u001b[39;00m f.ndim > \u001b[32m1\u001b[39m:\n\u001b[32m    476\u001b[39m     \u001b[38;5;28;01mraise\u001b[39;00m \u001b[38;5;167;01mRuntimeError\u001b[39;00m(\u001b[33m\"\u001b[39m\u001b[33m`fun` return value has \u001b[39m\u001b[33m\"\u001b[39m\n\u001b[32m    477\u001b[39m                        \u001b[33m\"\u001b[39m\u001b[33mmore than 1 dimension.\u001b[39m\u001b[33m\"\u001b[39m)\n",
      "\u001b[36mFile \u001b[39m\u001b[32m/opt/anaconda3/envs/terracotta/lib/python3.12/site-packages/scipy/optimize/_differentiable_functions.py:21\u001b[39m, in \u001b[36m_wrapper_fun.<locals>.wrapped\u001b[39m\u001b[34m(x)\u001b[39m\n\u001b[32m     17\u001b[39m ncalls[\u001b[32m0\u001b[39m] += \u001b[32m1\u001b[39m\n\u001b[32m     18\u001b[39m \u001b[38;5;66;03m# Send a copy because the user may overwrite it.\u001b[39;00m\n\u001b[32m     19\u001b[39m \u001b[38;5;66;03m# Overwriting results in undefined behaviour because\u001b[39;00m\n\u001b[32m     20\u001b[39m \u001b[38;5;66;03m# fun(self.x) will change self.x, with the two no longer linked.\u001b[39;00m\n\u001b[32m---> \u001b[39m\u001b[32m21\u001b[39m fx = \u001b[43mfun\u001b[49m\u001b[43m(\u001b[49m\u001b[43mnp\u001b[49m\u001b[43m.\u001b[49m\u001b[43mcopy\u001b[49m\u001b[43m(\u001b[49m\u001b[43mx\u001b[49m\u001b[43m)\u001b[49m\u001b[43m,\u001b[49m\u001b[43m \u001b[49m\u001b[43m*\u001b[49m\u001b[43margs\u001b[49m\u001b[43m)\u001b[49m\n\u001b[32m     22\u001b[39m \u001b[38;5;66;03m# Make sure the function returns a true scalar\u001b[39;00m\n\u001b[32m     23\u001b[39m \u001b[38;5;28;01mif\u001b[39;00m \u001b[38;5;129;01mnot\u001b[39;00m np.isscalar(fx):\n",
      "\u001b[36mFile \u001b[39m\u001b[32m~/Documents/GitHub/terracotta/terracotta/optimize.py:6\u001b[39m, in \u001b[36mrun\u001b[39m\u001b[34m(migration_rates, world_map, trees)\u001b[39m\n\u001b[32m      4\u001b[39m \u001b[38;5;28;01mdef\u001b[39;00m\u001b[38;5;250m \u001b[39m\u001b[34mrun\u001b[39m(migration_rates, world_map, trees):\n\u001b[32m      5\u001b[39m     migration_rate_dict = {i: rate \u001b[38;5;28;01mfor\u001b[39;00m i, rate \u001b[38;5;129;01min\u001b[39;00m \u001b[38;5;28menumerate\u001b[39m(migration_rates)}\n\u001b[32m----> \u001b[39m\u001b[32m6\u001b[39m     \u001b[38;5;28;01mreturn\u001b[39;00m \u001b[43mcalc_migration_rate_log_likelihood\u001b[49m\u001b[43m(\u001b[49m\u001b[43mworld_map\u001b[49m\u001b[43m,\u001b[49m\u001b[43m \u001b[49m\u001b[43mtrees\u001b[49m\u001b[43m,\u001b[49m\u001b[43m \u001b[49m\u001b[43mmigration_rate_dict\u001b[49m\u001b[43m)\u001b[49m[\u001b[32m0\u001b[39m]\n",
      "\u001b[36mFile \u001b[39m\u001b[32m~/Documents/GitHub/terracotta/terracotta/main.py:346\u001b[39m, in \u001b[36mcalc_migration_rate_log_likelihood\u001b[39m\u001b[34m(world_map, trees, migration_rates)\u001b[39m\n\u001b[32m    344\u001b[39m bl = tree.branch_length(node)\n\u001b[32m    345\u001b[39m \u001b[38;5;28;01mif\u001b[39;00m bl \u001b[38;5;129;01mnot\u001b[39;00m \u001b[38;5;129;01min\u001b[39;00m precomputed_transitions:\n\u001b[32m--> \u001b[39m\u001b[32m346\u001b[39m     where_next = \u001b[43mnp\u001b[49m\u001b[43m.\u001b[49m\u001b[43mlinalg\u001b[49m\u001b[43m.\u001b[49m\u001b[43mmatrix_power\u001b[49m\u001b[43m(\u001b[49m\u001b[43mexponentiated\u001b[49m\u001b[43m,\u001b[49m\u001b[43m \u001b[49m\u001b[38;5;28;43mint\u001b[39;49m\u001b[43m(\u001b[49m\u001b[43mbl\u001b[49m\u001b[43m)\u001b[49m\u001b[43m)\u001b[49m \u001b[38;5;66;03m#forces branch lengths to be integer. Could be an issue for bl<1\u001b[39;00m\n\u001b[32m    347\u001b[39m     where_next[where_next <= \u001b[32m0\u001b[39m] = \u001b[32m1e-99\u001b[39m\n\u001b[32m    348\u001b[39m     precomputed_transitions[bl] = where_next\n",
      "\u001b[36mFile \u001b[39m\u001b[32m/opt/anaconda3/envs/terracotta/lib/python3.12/site-packages/numpy/linalg/_linalg.py:726\u001b[39m, in \u001b[36mmatrix_power\u001b[39m\u001b[34m(a, n)\u001b[39m\n\u001b[32m    724\u001b[39m z = result = \u001b[38;5;28;01mNone\u001b[39;00m\n\u001b[32m    725\u001b[39m \u001b[38;5;28;01mwhile\u001b[39;00m n > \u001b[32m0\u001b[39m:\n\u001b[32m--> \u001b[39m\u001b[32m726\u001b[39m     z = a \u001b[38;5;28;01mif\u001b[39;00m z \u001b[38;5;129;01mis\u001b[39;00m \u001b[38;5;28;01mNone\u001b[39;00m \u001b[38;5;28;01melse\u001b[39;00m \u001b[43mfmatmul\u001b[49m\u001b[43m(\u001b[49m\u001b[43mz\u001b[49m\u001b[43m,\u001b[49m\u001b[43m \u001b[49m\u001b[43mz\u001b[49m\u001b[43m)\u001b[49m\n\u001b[32m    727\u001b[39m     n, bit = \u001b[38;5;28mdivmod\u001b[39m(n, \u001b[32m2\u001b[39m)\n\u001b[32m    728\u001b[39m     \u001b[38;5;28;01mif\u001b[39;00m bit:\n",
      "\u001b[36mFile \u001b[39m\u001b[32m/opt/anaconda3/envs/terracotta/lib/python3.12/site-packages/numpy/linalg/_linalg.py:3383\u001b[39m, in \u001b[36mmatmul\u001b[39m\u001b[34m(x1, x2)\u001b[39m\n\u001b[32m   3302\u001b[39m \u001b[38;5;129m@array_function_dispatch\u001b[39m(_matmul_dispatcher)\n\u001b[32m   3303\u001b[39m \u001b[38;5;28;01mdef\u001b[39;00m\u001b[38;5;250m \u001b[39m\u001b[34mmatmul\u001b[39m(x1, x2, /):\n\u001b[32m   3304\u001b[39m \u001b[38;5;250m    \u001b[39m\u001b[33;03m\"\"\"\u001b[39;00m\n\u001b[32m   3305\u001b[39m \u001b[33;03m    Computes the matrix product.\u001b[39;00m\n\u001b[32m   3306\u001b[39m \n\u001b[32m   (...)\u001b[39m\u001b[32m   3381\u001b[39m \n\u001b[32m   3382\u001b[39m \u001b[33;03m    \"\"\"\u001b[39;00m\n\u001b[32m-> \u001b[39m\u001b[32m3383\u001b[39m     \u001b[38;5;28;01mreturn\u001b[39;00m \u001b[43m_core_matmul\u001b[49m\u001b[43m(\u001b[49m\u001b[43mx1\u001b[49m\u001b[43m,\u001b[49m\u001b[43m \u001b[49m\u001b[43mx2\u001b[49m\u001b[43m)\u001b[49m\n",
      "\u001b[31mKeyboardInterrupt\u001b[39m: "
     ]
    }
   ],
   "source": [
    "initial_mr = np.array([np.random.uniform(0, 0.02) for connection_type in world_map.connections.type.unique()])\n",
    "minimize(tct.optimize.run, initial_mr, args=(world_map, trees[:1]), method=\"BFGS\", options={\"disp\":True})"
   ]
  },
  {
   "cell_type": "code",
   "execution_count": null,
   "id": "f224af12-8d1d-4d0e-98ba-47957f62f80e",
   "metadata": {},
   "outputs": [],
   "source": [
    "#previous_length = None\n",
    "#previous_mat = None\n",
    "#precomputed_transitions = {}\n",
    "#for bl in branch_lengths:\n",
    "#    if previous_length != None:\n",
    "#        diff = bl - previous_length\n",
    "#        where_next = np.dot(previous_mat, np.linalg.matrix_power(exponentiated, diff))\n",
    "#    else:\n",
    "#        where_next = np.linalg.matrix_power(exponentiated, bl)\n",
    "#    precomputed_transitions[bl] = where_next\n",
    "#    previous_length = bl\n",
    "#    previous_mat = where_next\n",
    "\n",
    "\n",
    "\n",
    "#precomputed_transitions = {}\n",
    "#for bl in branch_lengths:\n",
    "#    where_next = np.linalg.matrix_power(exponentiated, bl)\n",
    "#    where_next[where_next <= 0] = 1e-99\n",
    "#    precomputed_transitions[bl] = where_next\n",
    "\n",
    "#np.linalg.matrix_power(exponentiated, branch_lengths[0])\n",
    "\n",
    "\n",
    "#@njit()\n",
    "#def raise_to_power(bl):\n",
    "#    where_next = np.linalg.matrix_power(exponentiated, bl) #forces branch lengths to be integer. Could be an issue for bl<1\n",
    "#    where_next[where_next <= 0] = 1e-99\n",
    "#    return where_next\n",
    "\n",
    "#for bl in branch_lengths:\n",
    "#    raise_to_power(bl)"
   ]
  }
 ],
 "metadata": {
  "kernelspec": {
   "display_name": "Python 3 (ipykernel)",
   "language": "python",
   "name": "python3"
  },
  "language_info": {
   "codemirror_mode": {
    "name": "ipython",
    "version": 3
   },
   "file_extension": ".py",
   "mimetype": "text/x-python",
   "name": "python",
   "nbconvert_exporter": "python",
   "pygments_lexer": "ipython3",
   "version": "3.12.0"
  }
 },
 "nbformat": 4,
 "nbformat_minor": 5
}
