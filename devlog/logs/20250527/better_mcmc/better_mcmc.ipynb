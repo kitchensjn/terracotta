{
 "cells": [
  {
   "cell_type": "code",
   "execution_count": 3,
   "id": "4be157f0-b227-4c94-9ec0-d43ebd39463d",
   "metadata": {},
   "outputs": [],
   "source": [
    "import pandas as pd\n",
    "import numpy as np\n",
    "from glob import glob\n",
    "import tskit\n",
    "import sys\n",
    "sys.path.append(\"/Users/jameskitchens/Documents/GitHub/terracotta\")\n",
    "import terracotta as tct\n",
    "import importlib\n",
    "importlib.reload(tct)\n",
    "import time\n",
    "import emcee\n",
    "from scipy import linalg\n",
    "\n",
    "\n",
    "directory = \".\"\n",
    "\n",
    "demes = pd.read_csv(f\"{directory}/demes_elev_two_type.tsv\", sep=\"\\t\")\n",
    "\n",
    "demes[\"type\"] = 0 #ignoring elevation type\n",
    "\n",
    "samples = pd.read_csv(f\"{directory}/samples_elev_two_type.tsv\", sep=\"\\t\")\n",
    "\n",
    "world_map = tct.WorldMap(demes, samples)\n",
    "\n",
    "#trees = [tct.nx_bin_ts(tskit.load(ts).simplify(), [0, 10, 100, 1000, 10000, 100000, 1000000, 10000000]).first() for ts in glob(f\"{directory}/trees/*\")]\n",
    "trees = [tskit.load(ts).first() for ts in glob(f\"{directory}/trees/*\")]\n",
    "\n",
    "cl = []\n",
    "bal = []\n",
    "r = []\n",
    "for tree in trees:\n",
    "    child_list, branch_above_list, roots = tct.convert_tree_to_tuple_list(tree)\n",
    "    cl.append(child_list)\n",
    "    bal.append(branch_above_list)\n",
    "    r.append(roots)\n",
    "\n",
    "total_number_of_edges = 0\n",
    "for tree in trees:\n",
    "    total_number_of_edges += tree.num_edges+1\n",
    "branch_lengths = np.zeros(total_number_of_edges, dtype=\"int64\")\n",
    "edge_counter = 0\n",
    "for tree in trees:\n",
    "    for node in tree.nodes(order=\"timeasc\"):\n",
    "        branch_lengths[edge_counter] = int(tree.branch_length(node))\n",
    "        edge_counter += 1\n",
    "branch_lengths = np.unique(np.array(branch_lengths))"
   ]
  },
  {
   "cell_type": "code",
   "execution_count": null,
   "id": "bb3df47e-fd75-40b1-9e41-f30c12ce8750",
   "metadata": {},
   "outputs": [
    {
     "name": "stdout",
     "output_type": "stream",
     "text": [
      "168.8498330116272\n"
     ]
    }
   ],
   "source": [
    "tct.calc_migration_rate_log_likelihood(\n",
    "    world_map=world_map,\n",
    "    children=cl,\n",
    "    branch_above=bal,\n",
    "    roots=r,\n",
    "    migration_rates={0:0.02},\n",
    "    branch_lengths=branch_lengths\n",
    ")"
   ]
  },
  {
   "cell_type": "code",
   "execution_count": 1,
   "id": "85810b02-0023-469e-b6bd-ee7f561c3d72",
   "metadata": {},
   "outputs": [
    {
     "ename": "NameError",
     "evalue": "name 'tct' is not defined",
     "output_type": "error",
     "traceback": [
      "\u001b[31m---------------------------------------------------------------------------\u001b[39m",
      "\u001b[31mNameError\u001b[39m                                 Traceback (most recent call last)",
      "\u001b[36mCell\u001b[39m\u001b[36m \u001b[39m\u001b[32mIn[1]\u001b[39m\u001b[32m, line 1\u001b[39m\n\u001b[32m----> \u001b[39m\u001b[32m1\u001b[39m child_list, branch_above_list, roots  = \u001b[43mtct\u001b[49m.convert_tree_to_tuple_list(trees[\u001b[32m0\u001b[39m])\n",
      "\u001b[31mNameError\u001b[39m: name 'tct' is not defined"
     ]
    }
   ],
   "source": [
    "child_list, branch_above_list, roots  = tct.convert_tree_to_tuple_list(trees[0])"
   ]
  },
  {
   "cell_type": "code",
   "execution_count": null,
   "id": "45e5ba25-bdc6-41c0-b328-ff0b3faa54f1",
   "metadata": {},
   "outputs": [],
   "source": [
    "total_number_of_edges = 0\n",
    "for tree in trees:\n",
    "    total_number_of_edges += tree.num_edges+1\n",
    "branch_lengths = np.zeros(total_number_of_edges, dtype=\"int64\")\n",
    "edge_counter = 0\n",
    "for tree in trees:\n",
    "    for node in tree.nodes(order=\"timeasc\"):\n",
    "        branch_lengths[edge_counter] = int(tree.branch_length(node))\n",
    "        edge_counter += 1\n",
    "branch_lengths = np.unique(np.array(branch_lengths))\n",
    "\n",
    "transition_matrix = world_map.build_transition_matrix(migration_rates={0:0.02})\n",
    "exponentiated = linalg.expm(transition_matrix)\n",
    "exponentiated[exponentiated < 0] = 0\n",
    "\n",
    "start = time.time()\n",
    "previous_length = None\n",
    "previous_mat = None\n",
    "precomputed_transitions = np.zeros((len(branch_lengths), len(world_map.demes), len(world_map.demes)), dtype=\"float64\")\n",
    "precomputed_log = np.zeros((len(branch_lengths), len(world_map.demes), len(world_map.demes)), dtype=\"float64\")\n",
    "counter = 0\n",
    "for bl in branch_lengths:\n",
    "    if previous_length != None:\n",
    "        diff = bl - previous_length\n",
    "        where_next = np.dot(previous_mat, np.linalg.matrix_power(exponentiated, diff))\n",
    "    else:\n",
    "        where_next = np.linalg.matrix_power(exponentiated, bl)\n",
    "    precomputed_transitions[counter] = where_next\n",
    "    precomputed_transitions[counter][precomputed_transitions[counter] <= 0] = 1e-99\n",
    "    precomputed_log[counter] = np.log(precomputed_transitions[counter]).T\n",
    "    previous_length = bl\n",
    "    previous_mat = where_next\n",
    "    counter += 1\n",
    "#precomputed_transitions[precomputed_transitions <= 0] = 1e-99\n",
    "print(time.time() - start)"
   ]
  },
  {
   "cell_type": "code",
   "execution_count": 4,
   "id": "0478bf62-fe4e-4f00-ba73-19c467ddd5e5",
   "metadata": {},
   "outputs": [],
   "source": [
    "sample_location_vectors = np.zeros((len(world_map.sample_location_vectors), len(world_map.demes)), dtype=\"float64\")\n",
    "sample_ids = np.zeros(len(world_map.sample_location_vectors), dtype=\"int64\")\n",
    "counter = 0\n",
    "for sample in world_map.sample_location_vectors:\n",
    "    sample_location_vectors[counter] = world_map.sample_location_vectors[sample]\n",
    "    sample_ids[counter] = sample\n",
    "    counter += 1"
   ]
  },
  {
   "cell_type": "code",
   "execution_count": 8,
   "id": "d67aacf0-a63d-4230-bfbc-1f287ef988f7",
   "metadata": {},
   "outputs": [
    {
     "name": "stdout",
     "output_type": "stream",
     "text": [
      "(-12478.400057058894, array([-12478.40005706]))\n",
      "2.7816619873046875\n"
     ]
    }
   ],
   "source": [
    "start = time.time()\n",
    "print(tct.calc_tree_log_likelihood_new(\n",
    "    child_list=child_list,\n",
    "    branch_above_list=branch_above_list,\n",
    "    roots=roots,\n",
    "    sample_ids=sample_ids,\n",
    "    sample_location_vectors=sample_location_vectors,\n",
    "    branch_lengths=branch_lengths,\n",
    "    precomputed_transitions=precomputed_transitions,\n",
    "    precomputed_log=precomputed_log\n",
    "))\n",
    "print(time.time() - start)"
   ]
  },
  {
   "cell_type": "code",
   "execution_count": null,
   "id": "5ca8b234-d0be-4c49-b16c-fe37d4747881",
   "metadata": {},
   "outputs": [],
   "source": []
  }
 ],
 "metadata": {
  "kernelspec": {
   "display_name": "Python 3 (ipykernel)",
   "language": "python",
   "name": "python3"
  },
  "language_info": {
   "codemirror_mode": {
    "name": "ipython",
    "version": 3
   },
   "file_extension": ".py",
   "mimetype": "text/x-python",
   "name": "python",
   "nbconvert_exporter": "python",
   "pygments_lexer": "ipython3",
   "version": "3.12.0"
  }
 },
 "nbformat": 4,
 "nbformat_minor": 5
}
