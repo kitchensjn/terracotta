{
 "cells": [
  {
   "cell_type": "code",
   "execution_count": 1,
   "id": "4be157f0-b227-4c94-9ec0-d43ebd39463d",
   "metadata": {},
   "outputs": [],
   "source": [
    "import pandas as pd\n",
    "import numpy as np\n",
    "from glob import glob\n",
    "import tskit\n",
    "import sys\n",
    "sys.path.append(\"/Users/jameskitchens/Documents/GitHub/terracotta\")\n",
    "import terracotta as tct\n",
    "import importlib\n",
    "importlib.reload(tct)\n",
    "import time\n",
    "import emcee\n",
    "from scipy import linalg\n",
    "\n",
    "\n",
    "directory = \".\"\n",
    "\n",
    "demes = pd.read_csv(f\"{directory}/demes_elev_two_type.tsv\", sep=\"\\t\")\n",
    "\n",
    "demes[\"type\"] = 0 #ignoring elevation type\n",
    "\n",
    "samples = pd.read_csv(f\"{directory}/samples_elev_two_type.tsv\", sep=\"\\t\")\n",
    "\n",
    "world_map = tct.WorldMap(demes, samples)\n",
    "\n",
    "trees = [tct.nx_bin_ts(tskit.load(ts).simplify(), [0, 10, 100, 1000, 10000, 100000, 1000000, 10000000]).first() for ts in glob(f\"{directory}/trees/*\")]\n",
    "#trees = [tskit.load(ts).first() for ts in glob(f\"{directory}/trees/*\")]\n",
    "\n",
    "cl = []\n",
    "bal = []\n",
    "r = []\n",
    "for tree in trees:\n",
    "    child_list, branch_above_list, roots = tct.convert_tree_to_tuple_list(tree)\n",
    "    cl.append(child_list)\n",
    "    bal.append(branch_above_list)\n",
    "    r.append(roots)\n",
    "\n",
    "total_number_of_edges = 0\n",
    "for tree in trees:\n",
    "    total_number_of_edges += tree.num_edges+1\n",
    "branch_lengths = np.zeros(total_number_of_edges, dtype=\"int64\")\n",
    "edge_counter = 0\n",
    "for tree in trees:\n",
    "    for node in tree.nodes(order=\"timeasc\"):\n",
    "        branch_lengths[edge_counter] = int(tree.branch_length(node))\n",
    "        edge_counter += 1\n",
    "branch_lengths = np.unique(np.array(branch_lengths))"
   ]
  },
  {
   "cell_type": "code",
   "execution_count": 7,
   "id": "bb3df47e-fd75-40b1-9e41-f30c12ce8750",
   "metadata": {},
   "outputs": [
    {
     "name": "stdout",
     "output_type": "stream",
     "text": [
      "- 14.28492021560669\n",
      "- 8.929627180099487\n",
      "- 7.975739002227783\n",
      "- 10.028924226760864\n",
      "- 9.265682220458984\n",
      "- 8.086036205291748\n",
      "- 7.318737030029297\n",
      "- 6.650225877761841\n",
      "- 6.475908041000366\n",
      "- 7.014204263687134\n",
      "- 9.571678161621094\n",
      "- 6.973972797393799\n",
      "- 7.880432844161987\n",
      "- 8.16109299659729\n",
      "- 7.587339162826538\n",
      "- 7.101822137832642\n",
      "- 6.790343999862671\n",
      "- 7.162989139556885\n",
      "- 6.398159027099609\n",
      "- 7.388814926147461\n",
      "- 7.99402117729187\n",
      "- 7.229645013809204\n",
      "- 7.735358953475952\n",
      "- 7.531213045120239\n",
      "- 10.122698068618774\n",
      "- 8.991009950637817\n",
      "- 7.660728216171265\n",
      "- 5.058655023574829\n",
      "- 7.708830833435059\n",
      "- 9.2101149559021\n",
      "- 10.277617931365967\n",
      "- 12.847586154937744\n",
      "- 13.09038496017456\n",
      "- 13.41930603981018\n",
      "- 9.552277088165283\n",
      "- 9.222786903381348\n",
      "- 9.125576257705688\n",
      "- 8.191262006759644\n",
      "- 7.854036808013916\n",
      "CPU times: user 1h 9min 25s, sys: 8min 2s, total: 1h 17min 28s\n",
      "Wall time: 7min 57s\n"
     ]
    },
    {
     "data": {
      "text/plain": [
       "(-756115.7311965061,\n",
       " [-21038.478953005462,\n",
       "  -19288.964438964806,\n",
       "  -21510.936503161254,\n",
       "  -19846.95199720352,\n",
       "  -16631.551108706783,\n",
       "  -19992.65665046741,\n",
       "  -15771.348433841966,\n",
       "  -23094.546570679442,\n",
       "  -18622.594000619694,\n",
       "  -17764.24220095693,\n",
       "  -19258.25405925385,\n",
       "  -19974.66662721844,\n",
       "  -15658.399569752892,\n",
       "  -15676.588070602022,\n",
       "  -21210.252177049053,\n",
       "  -19731.64719610874,\n",
       "  -24226.363345793485,\n",
       "  -19287.23688063402,\n",
       "  -25304.0573718476,\n",
       "  -14844.889822315065,\n",
       "  -18009.01452039574,\n",
       "  -21131.42460745062,\n",
       "  -18540.43290022818,\n",
       "  -17576.315166879813,\n",
       "  -16719.865084056164,\n",
       "  -21777.493679726624,\n",
       "  -21915.58330190281,\n",
       "  -26533.10320427965,\n",
       "  -20014.049198899993,\n",
       "  -17358.31591528033,\n",
       "  -22715.784173004344,\n",
       "  -17117.452285288808,\n",
       "  -16174.619122574808,\n",
       "  -15554.676128060066,\n",
       "  -21421.014671444667,\n",
       "  -18301.03555796306,\n",
       "  -18836.393241978858,\n",
       "  -18652.404271583124,\n",
       "  -19032.128187325965])"
      ]
     },
     "execution_count": 7,
     "metadata": {},
     "output_type": "execute_result"
    }
   ],
   "source": [
    "%%time\n",
    "tct.calc_migration_rate_log_likelihood(\n",
    "    world_map=world_map,\n",
    "    trees=trees,\n",
    "    migration_rates={0:0.02},\n",
    "    branch_lengths=branch_lengths\n",
    ")"
   ]
  },
  {
   "cell_type": "code",
   "execution_count": 2,
   "id": "85810b02-0023-469e-b6bd-ee7f561c3d72",
   "metadata": {},
   "outputs": [],
   "source": [
    "child_list, branch_above_list, roots  = tct.convert_tree_to_tuple_list(trees[0])"
   ]
  },
  {
   "cell_type": "code",
   "execution_count": 3,
   "id": "45e5ba25-bdc6-41c0-b328-ff0b3faa54f1",
   "metadata": {},
   "outputs": [
    {
     "name": "stdout",
     "output_type": "stream",
     "text": [
      "1.3260462284088135\n"
     ]
    }
   ],
   "source": [
    "total_number_of_edges = 0\n",
    "for tree in trees:\n",
    "    total_number_of_edges += tree.num_edges+1\n",
    "branch_lengths = np.zeros(total_number_of_edges, dtype=\"int64\")\n",
    "edge_counter = 0\n",
    "for tree in trees:\n",
    "    for node in tree.nodes(order=\"timeasc\"):\n",
    "        branch_lengths[edge_counter] = int(tree.branch_length(node))\n",
    "        edge_counter += 1\n",
    "branch_lengths = np.unique(np.array(branch_lengths))\n",
    "\n",
    "transition_matrix = world_map.build_transition_matrix(migration_rates={0:0.02})\n",
    "exponentiated = linalg.expm(transition_matrix)\n",
    "exponentiated[exponentiated < 0] = 0\n",
    "\n",
    "start = time.time()\n",
    "previous_length = None\n",
    "previous_mat = None\n",
    "precomputed_transitions = np.zeros((len(branch_lengths), len(world_map.demes), len(world_map.demes)), dtype=\"float64\")\n",
    "precomputed_log = np.zeros((len(branch_lengths), len(world_map.demes), len(world_map.demes)), dtype=\"float64\")\n",
    "counter = 0\n",
    "for bl in branch_lengths:\n",
    "    if previous_length != None:\n",
    "        diff = bl - previous_length\n",
    "        where_next = np.dot(previous_mat, np.linalg.matrix_power(exponentiated, diff))\n",
    "    else:\n",
    "        where_next = np.linalg.matrix_power(exponentiated, bl)\n",
    "    precomputed_transitions[counter] = where_next\n",
    "    precomputed_transitions[counter][precomputed_transitions[counter] <= 0] = 1e-99\n",
    "    precomputed_log[counter] = np.log(precomputed_transitions[counter]).T\n",
    "    previous_length = bl\n",
    "    previous_mat = where_next\n",
    "    counter += 1\n",
    "#precomputed_transitions[precomputed_transitions <= 0] = 1e-99\n",
    "print(time.time() - start)"
   ]
  },
  {
   "cell_type": "code",
   "execution_count": 4,
   "id": "0478bf62-fe4e-4f00-ba73-19c467ddd5e5",
   "metadata": {},
   "outputs": [],
   "source": [
    "sample_location_vectors = np.zeros((len(world_map.sample_location_vectors), len(world_map.demes)), dtype=\"float64\")\n",
    "sample_ids = np.zeros(len(world_map.sample_location_vectors), dtype=\"int64\")\n",
    "counter = 0\n",
    "for sample in world_map.sample_location_vectors:\n",
    "    sample_location_vectors[counter] = world_map.sample_location_vectors[sample]\n",
    "    sample_ids[counter] = sample\n",
    "    counter += 1"
   ]
  },
  {
   "cell_type": "code",
   "execution_count": 8,
   "id": "d67aacf0-a63d-4230-bfbc-1f287ef988f7",
   "metadata": {},
   "outputs": [
    {
     "name": "stdout",
     "output_type": "stream",
     "text": [
      "(-12478.400057058894, array([-12478.40005706]))\n",
      "2.7816619873046875\n"
     ]
    }
   ],
   "source": [
    "start = time.time()\n",
    "print(tct.calc_tree_log_likelihood_new(\n",
    "    child_list=child_list,\n",
    "    branch_above_list=branch_above_list,\n",
    "    roots=roots,\n",
    "    sample_ids=sample_ids,\n",
    "    sample_location_vectors=sample_location_vectors,\n",
    "    branch_lengths=branch_lengths,\n",
    "    precomputed_transitions=precomputed_transitions,\n",
    "    precomputed_log=precomputed_log\n",
    "))\n",
    "print(time.time() - start)"
   ]
  },
  {
   "cell_type": "code",
   "execution_count": null,
   "id": "5ca8b234-d0be-4c49-b16c-fe37d4747881",
   "metadata": {},
   "outputs": [],
   "source": []
  }
 ],
 "metadata": {
  "kernelspec": {
   "display_name": "Python 3 (ipykernel)",
   "language": "python",
   "name": "python3"
  },
  "language_info": {
   "codemirror_mode": {
    "name": "ipython",
    "version": 3
   },
   "file_extension": ".py",
   "mimetype": "text/x-python",
   "name": "python",
   "nbconvert_exporter": "python",
   "pygments_lexer": "ipython3",
   "version": "3.12.0"
  }
 },
 "nbformat": 4,
 "nbformat_minor": 5
}
