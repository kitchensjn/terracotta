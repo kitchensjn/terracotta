{
 "cells": [
  {
   "cell_type": "code",
   "execution_count": 1,
   "id": "4be157f0-b227-4c94-9ec0-d43ebd39463d",
   "metadata": {},
   "outputs": [],
   "source": [
    "import pandas as pd\n",
    "import numpy as np\n",
    "from glob import glob\n",
    "import tskit\n",
    "import sys\n",
    "sys.path.append(\"/Users/jameskitchens/Documents/GitHub/terracotta\")\n",
    "import terracotta as tct\n",
    "import importlib\n",
    "importlib.reload(tct)\n",
    "import time\n",
    "import emcee\n",
    "from scipy import linalg\n",
    "\n",
    "\n",
    "directory = \".\"\n",
    "\n",
    "demes = pd.read_csv(f\"{directory}/demes_elev_two_type.tsv\", sep=\"\\t\")\n",
    "\n",
    "demes[\"type\"] = 0 #ignoring elevation type\n",
    "\n",
    "samples = pd.read_csv(f\"{directory}/samples_elev_two_type.tsv\", sep=\"\\t\")\n",
    "\n",
    "world_map = tct.WorldMap(demes, samples)\n",
    "\n",
    "trees = [tct.nx_bin_ts(tskit.load(ts).simplify(), [0, 10, 100, 1000, 10000, 100000, 1000000, 10000000]).first() for ts in glob(f\"{directory}/trees/*\")[:1]]"
   ]
  },
  {
   "cell_type": "code",
   "execution_count": 2,
   "id": "85810b02-0023-469e-b6bd-ee7f561c3d72",
   "metadata": {},
   "outputs": [],
   "source": [
    "trees_list = [tct.convert_tree_to_tuple_list(tree) for tree in trees]"
   ]
  },
  {
   "cell_type": "code",
   "execution_count": 34,
   "id": "45e5ba25-bdc6-41c0-b328-ff0b3faa54f1",
   "metadata": {},
   "outputs": [
    {
     "name": "stdout",
     "output_type": "stream",
     "text": [
      "1.1469879150390625\n"
     ]
    }
   ],
   "source": [
    "total_number_of_edges = 0\n",
    "for tree in trees:\n",
    "    total_number_of_edges += tree.num_edges+1\n",
    "branch_lengths = np.zeros(total_number_of_edges, dtype=\"int64\")\n",
    "edge_counter = 0\n",
    "for tree in trees:\n",
    "    for node in tree.nodes(order=\"timeasc\"):\n",
    "        branch_lengths[edge_counter] = int(tree.branch_length(node))\n",
    "        edge_counter += 1\n",
    "branch_lengths = np.unique(np.array(branch_lengths))\n",
    "\n",
    "transition_matrix = world_map.build_transition_matrix(migration_rates={0:0.02})\n",
    "exponentiated = linalg.expm(transition_matrix)\n",
    "exponentiated[exponentiated < 0] = 0\n",
    "\n",
    "start = time.time()\n",
    "previous_length = None\n",
    "previous_mat = None\n",
    "precomputed_transitions = np.zeros((len(branch_lengths), len(world_map.demes), len(world_map.demes)), dtype=\"float64\")\n",
    "counter = 0\n",
    "for bl in branch_lengths:\n",
    "    if previous_length != None:\n",
    "        diff = bl - previous_length\n",
    "        where_next = np.dot(previous_mat, np.linalg.matrix_power(exponentiated, diff))\n",
    "    else:\n",
    "        where_next = np.linalg.matrix_power(exponentiated, bl)\n",
    "    precomputed_transitions[counter] = where_next\n",
    "    previous_length = bl\n",
    "    previous_mat = where_next\n",
    "    counter += 1\n",
    "print(time.time() - start)"
   ]
  },
  {
   "cell_type": "code",
   "execution_count": 29,
   "id": "0478bf62-fe4e-4f00-ba73-19c467ddd5e5",
   "metadata": {},
   "outputs": [],
   "source": [
    "sample_location_vectors = np.zeros((len(world_map.sample_location_vectors), len(world_map.demes)), dtype=\"float64\")\n",
    "sample_ids = np.zeros(len(world_map.sample_location_vectors), dtype=\"int64\")\n",
    "counter = 0\n",
    "for sample in world_map.sample_location_vectors:\n",
    "    sample_location_vectors[counter] = world_map.sample_location_vectors[sample]\n",
    "    sample_ids[counter] = sample\n",
    "    counter += 1"
   ]
  },
  {
   "cell_type": "code",
   "execution_count": 4,
   "id": "d67aacf0-a63d-4230-bfbc-1f287ef988f7",
   "metadata": {},
   "outputs": [
    {
     "name": "stdout",
     "output_type": "stream",
     "text": [
      "(-12478.400057058894, [-12478.400057058894])\n",
      "6.3912200927734375\n",
      "(-12478.400057058894, [-12478.400057058894])\n",
      "4.504210948944092\n"
     ]
    }
   ],
   "source": [
    "start = time.time()\n",
    "print(tct.calc_tree_log_likelihood(trees[0], world_map.sample_location_vectors, precomputed_transitions=precomputed_transitions))\n",
    "print(time.time() - start)\n",
    "\n",
    "start = time.time()\n",
    "print(tct.calc_tree_log_likelihood_new(trees_list[0][0], [trees_list[0][1]], world_map.sample_location_vectors, precomputed_transitions=precomputed_transitions))\n",
    "print(time.time() - start)"
   ]
  },
  {
   "cell_type": "code",
   "execution_count": null,
   "id": "0f9ead50-2894-418f-a1ac-547f546823c6",
   "metadata": {},
   "outputs": [],
   "source": []
  }
 ],
 "metadata": {
  "kernelspec": {
   "display_name": "Python 3 (ipykernel)",
   "language": "python",
   "name": "python3"
  },
  "language_info": {
   "codemirror_mode": {
    "name": "ipython",
    "version": 3
   },
   "file_extension": ".py",
   "mimetype": "text/x-python",
   "name": "python",
   "nbconvert_exporter": "python",
   "pygments_lexer": "ipython3",
   "version": "3.12.0"
  }
 },
 "nbformat": 4,
 "nbformat_minor": 5
}
