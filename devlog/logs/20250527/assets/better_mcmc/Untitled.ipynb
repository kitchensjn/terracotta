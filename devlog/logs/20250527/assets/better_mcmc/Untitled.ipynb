{
 "cells": [
  {
   "cell_type": "code",
   "execution_count": 12,
   "id": "67562f33-c8ad-4850-816e-a9a8c77411b7",
   "metadata": {},
   "outputs": [
    {
     "name": "stdout",
     "output_type": "stream",
     "text": [
      "27.856319904327393\n",
      "72.49621105194092\n"
     ]
    }
   ],
   "source": [
    "import time\n",
    "import numpy as np\n",
    "import sys\n",
    "sys.path.append(\"/Users/jameskitchens/Documents/GitHub/terracotta\")\n",
    "import terracotta as tct\n",
    "import pandas as pd\n",
    "from scipy import linalg\n",
    "import tskit\n",
    "from glob import glob\n",
    "\n",
    "\n",
    "\n",
    "demes = pd.read_csv(f\"demes_elev_two_type.tsv\", sep=\"\\t\")\n",
    "demes[\"type\"] = 0 #ignoring elevation type\n",
    "samples = pd.read_csv(f\"samples_elev_two_type.tsv\", sep=\"\\t\")\n",
    "world_map = tct.WorldMap(demes, samples)\n",
    "#trees = [tct.nx_bin_ts(tskit.load(ts).simplify(), [0, 10, 100, 1000, 10000, 100000, 1000000, 10000000]).first() for ts in glob(f\"trees/*\")[:1]]\n",
    "trees = [tskit.load(ts).simplify().first() for ts in glob(f\"trees/*\")[:1]]\n",
    "\n",
    "total_number_of_edges = 0\n",
    "for tree in trees:\n",
    "    total_number_of_edges += tree.num_edges+1\n",
    "branch_lengths = np.zeros(total_number_of_edges, dtype=\"int64\")\n",
    "edge_counter = 0\n",
    "for tree in trees:\n",
    "    for node in tree.nodes(order=\"timeasc\"):\n",
    "        branch_lengths[edge_counter] = int(tree.branch_length(node))\n",
    "        edge_counter += 1\n",
    "branch_lengths = np.unique(np.array(branch_lengths))\n",
    "branch_lengths = branch_lengths[branch_lengths != 0]\n",
    "\n",
    "transition_matrix = world_map.build_transition_matrix(migration_rates={0:2e-6})\n",
    "\n",
    "start = time.time()\n",
    "trans, log = tct.precalculate_transitions(\n",
    "    branch_lengths=branch_lengths,\n",
    "    transition_matrix=transition_matrix\n",
    ")\n",
    "print(time.time() - start)\n",
    "\n",
    "start = time.time()\n",
    "trans_slow, log_slow = tct.precalculate_transitions(\n",
    "    branch_lengths=branch_lengths,\n",
    "    transition_matrix=transition_matrix,\n",
    "    fast=False\n",
    ")\n",
    "print(time.time() - start)"
   ]
  },
  {
   "cell_type": "code",
   "execution_count": 19,
   "id": "14a8551b-2d9b-4605-8c7c-90f3df11cb1c",
   "metadata": {},
   "outputs": [
    {
     "name": "stdout",
     "output_type": "stream",
     "text": [
      "0\n"
     ]
    }
   ],
   "source": [
    "print(np.sum(percent_error >= 1e-1))"
   ]
  },
  {
   "cell_type": "code",
   "execution_count": 21,
   "id": "2dd7afbe-18c8-4147-8249-4cd8c3da14de",
   "metadata": {},
   "outputs": [
    {
     "name": "stdout",
     "output_type": "stream",
     "text": [
      "[2.5e-323]\n",
      "[5.e-324]\n"
     ]
    }
   ],
   "source": [
    "print(trans[np.where(percent_error > 0.1)])\n",
    "print(trans_slow[np.where(percent_error > 0.1)])"
   ]
  },
  {
   "cell_type": "code",
   "execution_count": 13,
   "id": "3da31542-9388-49cb-a7ce-1801262e942e",
   "metadata": {},
   "outputs": [],
   "source": [
    "percent_error = np.divide(trans-trans_slow, trans_slow)"
   ]
  },
  {
   "cell_type": "code",
   "execution_count": 18,
   "id": "7cca1ee9-223f-4e2f-a42b-8f19052ee1e0",
   "metadata": {},
   "outputs": [
    {
     "name": "stdout",
     "output_type": "stream",
     "text": [
      "(array([ 89,  92,  93, ..., 358, 358, 358], shape=(767626,)), array([345, 345, 148, ..., 887, 887, 887], shape=(767626,)), array([345, 345, 148, ..., 888, 890, 891], shape=(767626,)))\n",
      "[9.95412671e-01 9.95223738e-01 9.95213796e-01 ... 9.23034903e-08\n",
      " 6.81959702e-09 5.06007192e-15]\n"
     ]
    }
   ],
   "source": [
    "print(np.where(percent_error > 1e-14))"
   ]
  },
  {
   "cell_type": "code",
   "execution_count": 37,
   "id": "4548f140-bc9a-4aec-8395-8b113ab36854",
   "metadata": {},
   "outputs": [
    {
     "data": {
      "text/plain": [
       "(array([3]), array([283]), array([103]))"
      ]
     },
     "execution_count": 37,
     "metadata": {},
     "output_type": "execute_result"
    }
   ],
   "source": [
    "np.where(percent_error > 0.1)"
   ]
  },
  {
   "cell_type": "code",
   "execution_count": 46,
   "id": "90b68239-806a-42f0-9a50-c62b0b1affcc",
   "metadata": {},
   "outputs": [
    {
     "data": {
      "text/plain": [
       "array([[-1.19998800e-04, -2.91404825e+02, -2.36128331e+02, ...,\n",
       "        -1.45393767e+02, -2.10765803e+02, -9.60642772e+01],\n",
       "       [-2.91404825e+02, -5.99994000e-05, -4.01838175e+02, ...,\n",
       "        -1.96281195e+02, -7.14979124e+01, -3.28996304e+02],\n",
       "       [-2.36128331e+02, -4.01838175e+02, -1.19998800e-04, ...,\n",
       "        -3.57815923e+02, -3.60930534e+02, -1.30720842e+02],\n",
       "       ...,\n",
       "       [-1.45393767e+02, -1.96281195e+02, -3.57815923e+02, ...,\n",
       "        -1.19998800e-04, -1.17955166e+02, -2.13009529e+02],\n",
       "       [-2.10765803e+02, -7.14979124e+01, -3.60930534e+02, ...,\n",
       "        -1.17955166e+02, -1.19998800e-04, -2.48462223e+02],\n",
       "       [-9.60642772e+01, -3.28996304e+02, -1.30720842e+02, ...,\n",
       "        -2.13009529e+02, -2.48462223e+02, -1.19998800e-04]],\n",
       "      shape=(893, 893))"
      ]
     },
     "execution_count": 46,
     "metadata": {},
     "output_type": "execute_result"
    }
   ],
   "source": [
    "log[3]"
   ]
  },
  {
   "cell_type": "code",
   "execution_count": 44,
   "id": "1941988b-fa49-40d1-8087-5b407678d19b",
   "metadata": {},
   "outputs": [
    {
     "data": {
      "text/plain": [
       "array([[-1.19998800e-04, -2.91404825e+02, -2.36128331e+02, ...,\n",
       "        -1.45393767e+02, -2.10765803e+02, -9.60642772e+01],\n",
       "       [-2.91404825e+02, -5.99994000e-05, -4.01838175e+02, ...,\n",
       "        -1.96281195e+02, -7.14979124e+01, -3.28996304e+02],\n",
       "       [-2.36128331e+02, -4.01838175e+02, -1.19998800e-04, ...,\n",
       "        -3.57815923e+02, -3.60930534e+02, -1.30720842e+02],\n",
       "       ...,\n",
       "       [-1.45393767e+02, -1.96281195e+02, -3.57815923e+02, ...,\n",
       "        -1.19998800e-04, -1.17955166e+02, -2.13009529e+02],\n",
       "       [-2.10765803e+02, -7.14979124e+01, -3.60930534e+02, ...,\n",
       "        -1.17955166e+02, -1.19998800e-04, -2.48462223e+02],\n",
       "       [-9.60642772e+01, -3.28996304e+02, -1.30720842e+02, ...,\n",
       "        -2.13009529e+02, -2.48462223e+02, -1.19998800e-04]],\n",
       "      shape=(893, 893))"
      ]
     },
     "execution_count": 44,
     "metadata": {},
     "output_type": "execute_result"
    }
   ],
   "source": [
    "log_slow[3]"
   ]
  },
  {
   "cell_type": "code",
   "execution_count": 61,
   "id": "e9e44f82-b575-4dbd-8f75-e805e0b211ed",
   "metadata": {},
   "outputs": [
    {
     "name": "stdout",
     "output_type": "stream",
     "text": [
      "2.5e-323\n",
      "5e-324\n",
      "4.0\n"
     ]
    }
   ],
   "source": [
    "percent_error = (trans[3] - trans_slow[3]) / trans_slow[3]\n",
    "print(trans[3,283,103])\n",
    "print(trans_slow[3,283,103])\n",
    "print(percent_error[283, 103])"
   ]
  },
  {
   "cell_type": "code",
   "execution_count": 55,
   "id": "1b8535eb-41c9-4d98-becc-6821ed5f0e50",
   "metadata": {},
   "outputs": [
    {
     "data": {
      "text/plain": [
       "array([[ 0.00000000e+00,  0.00000000e+00, -3.51133851e-16, ...,\n",
       "        -3.75735222e-16, -2.33209823e-16,  0.00000000e+00],\n",
       "       [ 2.94679295e-16,  1.11028964e-16, -3.68277245e-16, ...,\n",
       "        -2.50490636e-16,  1.23159943e-16,  0.00000000e+00],\n",
       "       [ 1.75566925e-16, -1.84138622e-16,  0.00000000e+00, ...,\n",
       "        -2.58489680e-16, -3.63899689e-16, -3.34303775e-16],\n",
       "       ...,\n",
       "       [-1.87867611e-16, -1.25245318e-16, -2.58489680e-16, ...,\n",
       "        -1.11035626e-16,  0.00000000e+00, -1.37424573e-16],\n",
       "       [ 2.33209823e-16, -1.23159943e-16,  1.81949845e-16, ...,\n",
       "         0.00000000e+00, -1.11035626e-16, -1.52210368e-16],\n",
       "       [ 0.00000000e+00,  3.46339325e-16, -1.67151887e-16, ...,\n",
       "        -1.37424573e-16,  1.52210368e-16,  0.00000000e+00]],\n",
       "      shape=(893, 893))"
      ]
     },
     "execution_count": 55,
     "metadata": {},
     "output_type": "execute_result"
    }
   ],
   "source": [
    "np.divide(trans[3] - trans_slow[3], trans_slow[3])"
   ]
  },
  {
   "cell_type": "code",
   "execution_count": null,
   "id": "31af67ad-af90-4e87-9a2e-43c2705978ac",
   "metadata": {},
   "outputs": [],
   "source": []
  }
 ],
 "metadata": {
  "kernelspec": {
   "display_name": "Python 3 (ipykernel)",
   "language": "python",
   "name": "python3"
  },
  "language_info": {
   "codemirror_mode": {
    "name": "ipython",
    "version": 3
   },
   "file_extension": ".py",
   "mimetype": "text/x-python",
   "name": "python",
   "nbconvert_exporter": "python",
   "pygments_lexer": "ipython3",
   "version": "3.12.0"
  }
 },
 "nbformat": 4,
 "nbformat_minor": 5
}
