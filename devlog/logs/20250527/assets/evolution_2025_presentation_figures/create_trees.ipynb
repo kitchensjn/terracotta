{
 "cells": [
  {
   "cell_type": "code",
   "execution_count": 4,
   "id": "7a2256b3-da58-4289-a44c-accc44a595e0",
   "metadata": {},
   "outputs": [
    {
     "name": "stdout",
     "output_type": "stream",
     "text": [
      "52974\n"
     ]
    }
   ],
   "source": [
    "from os import mkdir\n",
    "import tszip\n",
    "\n",
    "def create_trees_folder_from_ts(ts, output_path=\".\", gap_between_trees=1, discretize_time=False):\n",
    "    mkdir(f\"{output_path}/trees\")\n",
    "    for i in range(0, ts.num_trees, gap_between_trees):\n",
    "        tree = ts.at_index(i)\n",
    "        interval = tree.interval\n",
    "        single_tree_ts = ts.keep_intervals([interval], simplify=True).trim()\n",
    "        single_tree_ts.dump(f\"{output_path}/trees/{i}.trees\")\n",
    "\n",
    "ts = tszip.load(\"datasets/hgdp_tgp_sgdp_high_cov_ancients_chr17_p.dated.trees.tsz\")\n",
    "\n",
    "print(ts.num_trees)"
   ]
  },
  {
   "cell_type": "code",
   "execution_count": 5,
   "id": "b2019fd0-55fa-4179-845d-5c8dc9ef8377",
   "metadata": {},
   "outputs": [],
   "source": [
    "create_trees_folder_from_ts(\n",
    "    ts=ts,\n",
    "    output_path=\"datasets\",\n",
    "    gap_between_trees=500\n",
    ")"
   ]
  },
  {
   "cell_type": "code",
   "execution_count": null,
   "id": "dc79f0fb-5007-4530-845f-ce8d7db84cbc",
   "metadata": {},
   "outputs": [],
   "source": []
  }
 ],
 "metadata": {
  "kernelspec": {
   "display_name": "Python 3 (ipykernel)",
   "language": "python",
   "name": "python3"
  },
  "language_info": {
   "codemirror_mode": {
    "name": "ipython",
    "version": 3
   },
   "file_extension": ".py",
   "mimetype": "text/x-python",
   "name": "python",
   "nbconvert_exporter": "python",
   "pygments_lexer": "ipython3",
   "version": "3.12.0"
  }
 },
 "nbformat": 4,
 "nbformat_minor": 5
}
